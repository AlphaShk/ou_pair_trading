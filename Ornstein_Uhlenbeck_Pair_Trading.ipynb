{
  "cells": [
    {
      "cell_type": "markdown",
      "metadata": {
        "id": "Ki-oGA7G19Ek"
      },
      "source": [
        "# Ornstein-Uhlenbeck Pair Trading"
      ]
    },
    {
      "cell_type": "markdown",
      "metadata": {
        "id": "rFwd4MclqMj_"
      },
      "source": [
        "### Libraries"
      ]
    },
    {
      "cell_type": "code",
      "execution_count": null,
      "metadata": {
        "colab": {
          "base_uri": "https://localhost:8080/"
        },
        "id": "zRX9XVuButQN",
        "outputId": "c0c1afb0-79b1-40d3-aadf-886ea008eaed"
      },
      "outputs": [
        {
          "name": "stdout",
          "output_type": "stream",
          "text": [
            "Requirement already satisfied: alpaca-py in /usr/local/lib/python3.11/dist-packages (0.37.0)\n",
            "Requirement already satisfied: msgpack<2.0.0,>=1.0.3 in /usr/local/lib/python3.11/dist-packages (from alpaca-py) (1.1.0)\n",
            "Requirement already satisfied: pandas>=1.5.3 in /usr/local/lib/python3.11/dist-packages (from alpaca-py) (2.2.2)\n",
            "Requirement already satisfied: pydantic<3.0.0,>=2.0.3 in /usr/local/lib/python3.11/dist-packages (from alpaca-py) (2.10.5)\n",
            "Requirement already satisfied: requests<3.0.0,>=2.30.0 in /usr/local/lib/python3.11/dist-packages (from alpaca-py) (2.32.3)\n",
            "Requirement already satisfied: sseclient-py<2.0.0,>=1.7.2 in /usr/local/lib/python3.11/dist-packages (from alpaca-py) (1.8.0)\n",
            "Requirement already satisfied: websockets>=10.4 in /usr/local/lib/python3.11/dist-packages (from alpaca-py) (14.2)\n",
            "Requirement already satisfied: numpy>=1.23.2 in /usr/local/lib/python3.11/dist-packages (from pandas>=1.5.3->alpaca-py) (1.26.4)\n",
            "Requirement already satisfied: python-dateutil>=2.8.2 in /usr/local/lib/python3.11/dist-packages (from pandas>=1.5.3->alpaca-py) (2.8.2)\n",
            "Requirement already satisfied: pytz>=2020.1 in /usr/local/lib/python3.11/dist-packages (from pandas>=1.5.3->alpaca-py) (2024.2)\n",
            "Requirement already satisfied: tzdata>=2022.7 in /usr/local/lib/python3.11/dist-packages (from pandas>=1.5.3->alpaca-py) (2025.1)\n",
            "Requirement already satisfied: annotated-types>=0.6.0 in /usr/local/lib/python3.11/dist-packages (from pydantic<3.0.0,>=2.0.3->alpaca-py) (0.7.0)\n",
            "Requirement already satisfied: pydantic-core==2.27.2 in /usr/local/lib/python3.11/dist-packages (from pydantic<3.0.0,>=2.0.3->alpaca-py) (2.27.2)\n",
            "Requirement already satisfied: typing-extensions>=4.12.2 in /usr/local/lib/python3.11/dist-packages (from pydantic<3.0.0,>=2.0.3->alpaca-py) (4.12.2)\n",
            "Requirement already satisfied: charset-normalizer<4,>=2 in /usr/local/lib/python3.11/dist-packages (from requests<3.0.0,>=2.30.0->alpaca-py) (3.4.1)\n",
            "Requirement already satisfied: idna<4,>=2.5 in /usr/local/lib/python3.11/dist-packages (from requests<3.0.0,>=2.30.0->alpaca-py) (3.10)\n",
            "Requirement already satisfied: urllib3<3,>=1.21.1 in /usr/local/lib/python3.11/dist-packages (from requests<3.0.0,>=2.30.0->alpaca-py) (2.3.0)\n",
            "Requirement already satisfied: certifi>=2017.4.17 in /usr/local/lib/python3.11/dist-packages (from requests<3.0.0,>=2.30.0->alpaca-py) (2024.12.14)\n",
            "Requirement already satisfied: six>=1.5 in /usr/local/lib/python3.11/dist-packages (from python-dateutil>=2.8.2->pandas>=1.5.3->alpaca-py) (1.17.0)\n"
          ]
        }
      ],
      "source": [
        "!pip install alpaca-py"
      ]
    },
    {
      "cell_type": "code",
      "execution_count": null,
      "metadata": {
        "id": "7i1z-7hStYII"
      },
      "outputs": [],
      "source": [
        "import numpy as np\n",
        "import matplotlib.pyplot as plt\n",
        "from scipy.special import factorial\n",
        "from math import gamma\n",
        "from scipy.optimize import root_scalar\n",
        "import seaborn as sns\n",
        "import yfinance as yf\n",
        "from itertools import combinations\n",
        "import pandas as pd\n",
        "\n",
        "from alpaca.data.historical.stock import StockBarsRequest,StockHistoricalDataClient\n",
        "from alpaca.data.historical.crypto import CryptoBarsRequest,CryptoHistoricalDataClient\n",
        "from alpaca.data.timeframe import TimeFrame\n",
        "from alpaca.trading.client import TradingClient\n",
        "from alpaca.trading.requests import MarketOrderRequest,OrderSide,TimeInForce,GetAssetsRequest,AssetClass\n",
        "from alpaca.data.live import StockDataStream,CryptoDataStream\n",
        "from datetime import datetime\n",
        "\n",
        "%matplotlib inline"
      ]
    },
    {
      "cell_type": "markdown",
      "metadata": {
        "id": "pbyoR2Nfp1us"
      },
      "source": [
        "## Methodology and Analysis"
      ]
    },
    {
      "cell_type": "markdown",
      "metadata": {
        "id": "TWBMBi53tXxe"
      },
      "source": [
        "Optimal Mean Reversion Trading: Mathematical Analysis And Practical Applications by Tim Siu-tang Leung, Xin Li\n",
        "\n",
        "Video:  <a href = \"https://youtu.be/vHzlZECzyPE\">What is a pairs trade</A><br>\n",
        "Video:  <a href=\"https://youtu.be/GdqVY1kZ4XI\">Maximum Likelihood Estimation with Ornstein-Uhlenbeck (part 1)</A><br>\n",
        "Video:  <a href=\"https://youtu.be/3906CWKhLqQ\">Maximum Likelihood Estimation with Ornstein-Uhlenbeck (part 2)</A><br>"
      ]
    },
    {
      "cell_type": "markdown",
      "metadata": {
        "id": "5i_tEBhUtdNx"
      },
      "source": [
        "### Ornstein-Uhlenbeck Process and Parameter Determination"
      ]
    },
    {
      "cell_type": "markdown",
      "metadata": {
        "id": "LsagcoNAvFAz"
      },
      "source": [
        "$$ dX_t = \\mu(\\theta - X_t) dt + \\sigma dW_t$$\n",
        "\n",
        "\n",
        "When we wish to simulate this process, we use a differencing formula:\n",
        "$$X_i - x_{i-1} = \\mu(\\theta - X_i) (t_i - t_{i-1}) + \\sigma\\sqrt{t_i - t_{i-1}}W_t$$"
      ]
    },
    {
      "cell_type": "markdown",
      "metadata": {
        "id": "2RGdjbPxtgfH"
      },
      "source": [
        "The optimal parameters can be calculated analytically.\n",
        "\n",
        "First define\n",
        "\n",
        "$$\n",
        "X_x = \\sum_{i=1}^N x_{i-1}\n",
        "$$\n",
        "\n",
        "$$\n",
        "X_y = \\sum_{i=1}^N x_i\n",
        "$$\n",
        "\n",
        "$$\n",
        "X_{xx} = \\sum_{i=1}^N (x_{i-1})^2\n",
        "$$\n",
        "\n",
        "$$\n",
        "X_{xy} = \\sum_{i=1}^N x_{i-1} x_i\n",
        "$$\n",
        "\n",
        "$$\n",
        "X_{yy} = \\sum_{i=1}^N (x_i)^2\n",
        "$$"
      ]
    },
    {
      "cell_type": "markdown",
      "metadata": {
        "id": "tS0WGlyttmEq"
      },
      "source": [
        "The optimal parameters are given by,\n",
        "\n",
        "\n",
        "$$\n",
        "\\mu^* = \\frac{X_y X_{xx} - X_x X_{xy}}\n",
        "{N(X_{xx} - X_{xy}) - (X_x^2 - X_xX_y)}\n",
        "$$\n",
        "\n",
        "$$\n",
        "\\theta^* = -\\frac{1}{\\Delta t} \\ln\\left(\n",
        "\\frac{X_{xy} - \\mu^*X_x - \\mu^*X_y + N(\\mu^*)^2}\n",
        "{X_{xx} - 2\\mu^*X_x + N(\\mu^*)^2}\\right)\n",
        "$$\n",
        "\n",
        "$$\n",
        "\\begin{multline}\n",
        "(\\sigma^*)^2 = \\frac{2\\theta^*}{N(1-e^{-2\\theta^*\\Delta t})} (X_{yy} - 2e^{-\\theta^*\\Delta t} X_{xy} + e^{-2\\theta^*\\Delta t}X_{xx}\n",
        "- 2\\mu^* (1-e^{-\\theta^*\\Delta t})(X_y - e^{-\\theta^*\\Delta t})X_x + N(\\mu^*)^2(1-e^{-\\theta^*\\Delta t})^2)\n",
        "\\end{multline}\n",
        "$$"
      ]
    },
    {
      "cell_type": "code",
      "execution_count": null,
      "metadata": {
        "id": "e1CbNtQLt4qp"
      },
      "outputs": [],
      "source": [
        "def log_likelihood( parameters, S, dt ):\n",
        "    theta = parameters[0]\n",
        "    mu = parameters[1]\n",
        "    sigma = parameters[2]\n",
        "\n",
        "    sigma0 = sigma**2 * (1 - np.exp(-2*mu*dt)) / (2 * mu)\n",
        "    sigma0 = np.sqrt( sigma0 )\n",
        "\n",
        "    N = S.size\n",
        "\n",
        "    term1 = -0.5 * np.log(2 * np.pi)\n",
        "    term2 = -np.log(sigma0)\n",
        "\n",
        "    prefactor = -1 / (2 * N * sigma0**2)\n",
        "    sum_term = 0\n",
        "    for i in range( 1, N ):\n",
        "        x2 = S[i]\n",
        "        x1 = S[i-1]\n",
        "\n",
        "        sum_term = sum_term + (x2 - x1 * np.exp(-mu*dt) - \\\n",
        "                   theta * (1-np.exp(-mu*dt)))**2\n",
        "\n",
        "    f = (term1 + term2 + prefactor * sum_term)\n",
        "\n",
        "    return f\n",
        "\n",
        "def calculate_parameters(x, dt):\n",
        "\n",
        "    N =x.size\n",
        "\n",
        "    Xx  = np.sum(x[0:-1])\n",
        "    Xy  = np.sum(x[1:])\n",
        "    Xxx = np.sum(x[0:-1]**2)\n",
        "    Xxy = np.sum(x[0:-1] * x[1:])\n",
        "    Xyy = np.sum(x[1:]**2)\n",
        "\n",
        "    mu = (Xy * Xxx - Xx * Xxy) / (N * (Xxx - Xxy) - (Xx**2 - Xx * Xy) )\n",
        "\n",
        "    theta = (Xxy - mu * Xx - mu * Xy + N * mu**2) / \\\n",
        "        (Xxx - 2 * mu * Xx + N * mu**2)\n",
        "\n",
        "    theta = max(theta, 1e-10) # avoid negative theta in log\n",
        "    theta = -1 / dt * np.log(theta)\n",
        "\n",
        "    prefactor = 2 * theta / (N*(1-np.exp(-2*theta*dt)))\n",
        "    term = Xyy - 2*np.exp(-theta*dt) * Xxy + np.exp(-2*theta*dt) * Xxx - 2*mu*(1-np.exp(-theta*dt)) * (Xy - Xx * np.exp(-theta*dt)) + N * mu**2 * ( 1-np.exp(-theta * dt))**2\n",
        "\n",
        "    sigma02 = prefactor * term\n",
        "\n",
        "    sigma02 = max(sigma02, 1e-10) # avoid 0 and negative sigma\n",
        "    sigma = np.sqrt(sigma02)\n",
        "\n",
        "    return mu, theta, sigma"
      ]
    },
    {
      "cell_type": "markdown",
      "metadata": {
        "id": "v-AVvZW-t-dA"
      },
      "source": [
        "###  Pairs Price"
      ]
    },
    {
      "cell_type": "markdown",
      "metadata": {
        "id": "WX8neTcovU8p"
      },
      "source": [
        "\n",
        "Our $X$ values will be the price of the pair over some range of time.\n",
        "\n",
        "$$\n",
        "X^{\\alpha, \\beta}_t = \\alpha S_t^{(1)} - \\beta S_t^{(2)}\n",
        "$$\n",
        "\n",
        "where $S_t^{(1)}$ and $S_t^{(2)}$ are the prices of stock one and two, respectively.  Likewise, $\\alpha$ and $\\beta$ are the numbers of shares of $S^{(1)}$ and $S^{(2)}$ owned."
      ]
    },
    {
      "cell_type": "markdown",
      "metadata": {
        "id": "st7IzpxhviRA"
      },
      "source": [
        "For each potential pair, in other words for different values of $\\alpha$ and $\\beta$, we will use historical data to generate the OU parameters.\n",
        "\n",
        "We will then sweep the values for $\\alpha$ and $\\beta$ (actually the ratio) and find the values that maximize the log likelihood.  We fix $\\alpha$ and sweep $\\beta$.\n",
        "\n",
        "If we put $A$ dollars in $S^{(1)}$ we have\n",
        "$$\n",
        "\\alpha = \\frac{A}{S_0^{(1)}}.\n",
        "$$\n",
        "\n",
        "$$\n",
        "\\beta = \\frac{B}{S_0^{(2)}}.\n",
        "$$\n",
        "\n",
        "The authors do the calculation in dollar amounts.  Since we only care about a ratio, we can set $A=1$.  When w do the calculation, we can sweep the parameters by taking a range of the ratio $B/A$.  We will take $B/A = 0.001 \\ldots 1$."
      ]
    },
    {
      "cell_type": "markdown",
      "metadata": {
        "id": "ikjkc9teuBpR"
      },
      "source": [
        "###  Example\n",
        "\n"
      ]
    },
    {
      "cell_type": "markdown",
      "metadata": {
        "id": "IX3UIekFvm8P"
      },
      "source": [
        "Our pairs will be GLD-GDX, and GLD-SLV.\n",
        "\n",
        "Let's load in the GLD, GDX, and SLV data."
      ]
    },
    {
      "cell_type": "code",
      "execution_count": null,
      "metadata": {
        "colab": {
          "base_uri": "https://localhost:8080/",
          "height": 352
        },
        "id": "jAAGIvReuAe1",
        "outputId": "b07a9166-773d-4a83-9013-1ed176ccd1b5"
      },
      "outputs": [
        {
          "ename": "NameError",
          "evalue": "name 'yf' is not defined",
          "output_type": "error",
          "traceback": [
            "\u001b[0;31m---------------------------------------------------------------------------\u001b[0m",
            "\u001b[0;31mNameError\u001b[0m                                 Traceback (most recent call last)",
            "\u001b[0;32m<ipython-input-6-e0f68b572187>\u001b[0m in \u001b[0;36m<cell line: 0>\u001b[0;34m()\u001b[0m\n\u001b[1;32m      5\u001b[0m \u001b[0;34m\u001b[0m\u001b[0m\n\u001b[1;32m      6\u001b[0m \u001b[0;31m# Fetch data from Yahoo Finance\u001b[0m\u001b[0;34m\u001b[0m\u001b[0;34m\u001b[0m\u001b[0m\n\u001b[0;32m----> 7\u001b[0;31m \u001b[0mdata\u001b[0m \u001b[0;34m=\u001b[0m \u001b[0;34m{\u001b[0m\u001b[0mticker\u001b[0m\u001b[0;34m:\u001b[0m \u001b[0myf\u001b[0m\u001b[0;34m.\u001b[0m\u001b[0mdownload\u001b[0m\u001b[0;34m(\u001b[0m\u001b[0mticker\u001b[0m\u001b[0;34m,\u001b[0m \u001b[0mstart\u001b[0m\u001b[0;34m=\u001b[0m\u001b[0mstart_date\u001b[0m\u001b[0;34m,\u001b[0m \u001b[0mend\u001b[0m\u001b[0;34m=\u001b[0m\u001b[0mend_date\u001b[0m\u001b[0;34m)\u001b[0m\u001b[0;34m[\u001b[0m\u001b[0;34m'Close'\u001b[0m\u001b[0;34m]\u001b[0m \u001b[0;32mfor\u001b[0m \u001b[0mticker\u001b[0m \u001b[0;32min\u001b[0m \u001b[0mtickers\u001b[0m\u001b[0;34m}\u001b[0m\u001b[0;34m\u001b[0m\u001b[0;34m\u001b[0m\u001b[0m\n\u001b[0m\u001b[1;32m      8\u001b[0m \u001b[0;34m\u001b[0m\u001b[0m\n\u001b[1;32m      9\u001b[0m \u001b[0;31m# Convert data to numpy arrays\u001b[0m\u001b[0;34m\u001b[0m\u001b[0;34m\u001b[0m\u001b[0m\n",
            "\u001b[0;32m<ipython-input-6-e0f68b572187>\u001b[0m in \u001b[0;36m<dictcomp>\u001b[0;34m(.0)\u001b[0m\n\u001b[1;32m      5\u001b[0m \u001b[0;34m\u001b[0m\u001b[0m\n\u001b[1;32m      6\u001b[0m \u001b[0;31m# Fetch data from Yahoo Finance\u001b[0m\u001b[0;34m\u001b[0m\u001b[0;34m\u001b[0m\u001b[0m\n\u001b[0;32m----> 7\u001b[0;31m \u001b[0mdata\u001b[0m \u001b[0;34m=\u001b[0m \u001b[0;34m{\u001b[0m\u001b[0mticker\u001b[0m\u001b[0;34m:\u001b[0m \u001b[0myf\u001b[0m\u001b[0;34m.\u001b[0m\u001b[0mdownload\u001b[0m\u001b[0;34m(\u001b[0m\u001b[0mticker\u001b[0m\u001b[0;34m,\u001b[0m \u001b[0mstart\u001b[0m\u001b[0;34m=\u001b[0m\u001b[0mstart_date\u001b[0m\u001b[0;34m,\u001b[0m \u001b[0mend\u001b[0m\u001b[0;34m=\u001b[0m\u001b[0mend_date\u001b[0m\u001b[0;34m)\u001b[0m\u001b[0;34m[\u001b[0m\u001b[0;34m'Close'\u001b[0m\u001b[0;34m]\u001b[0m \u001b[0;32mfor\u001b[0m \u001b[0mticker\u001b[0m \u001b[0;32min\u001b[0m \u001b[0mtickers\u001b[0m\u001b[0;34m}\u001b[0m\u001b[0;34m\u001b[0m\u001b[0;34m\u001b[0m\u001b[0m\n\u001b[0m\u001b[1;32m      8\u001b[0m \u001b[0;34m\u001b[0m\u001b[0m\n\u001b[1;32m      9\u001b[0m \u001b[0;31m# Convert data to numpy arrays\u001b[0m\u001b[0;34m\u001b[0m\u001b[0;34m\u001b[0m\u001b[0m\n",
            "\u001b[0;31mNameError\u001b[0m: name 'yf' is not defined"
          ]
        }
      ],
      "source": [
        "# Define the tickers and the date range\n",
        "tickers = ['GLD', 'GDX', 'SLV']\n",
        "start_date = '2010-01-01'\n",
        "end_date = '2013-12-31'\n",
        "\n",
        "# Fetch data from Yahoo Finance\n",
        "data = {ticker: yf.download(ticker, start=start_date, end=end_date)['Close'] for ticker in tickers}\n",
        "\n",
        "# Convert data to numpy arrays\n",
        "price_data = {ticker: data[ticker].to_numpy() for ticker in tickers}\n",
        "\n",
        "# Print the number of data points for each ticker\n",
        "for ticker in tickers:\n",
        "    print(f'Number of data points for {ticker}: {price_data[ticker].size}')\n",
        "\n",
        "# Calculate dt (daily change, assuming 252 trading days per year)\n",
        "dt = 1 / 252"
      ]
    },
    {
      "cell_type": "markdown",
      "metadata": {
        "id": "Xm1JPAkWvuw4"
      },
      "source": [
        "Example is based on grid search of the best pair and beta for the biggest likelihood of spread"
      ]
    },
    {
      "cell_type": "code",
      "execution_count": null,
      "metadata": {
        "id": "JPhIecFHuDdp"
      },
      "outputs": [],
      "source": [
        "#B/A Ratios to Test\n",
        "B_over_A = np.linspace(0.001, 1, 1000)\n",
        "\n",
        "#likelihood and param dictionaries\n",
        "results = {}\n",
        "\n",
        "#calc Optimal B and params each pair\n",
        "for i, ticker_1 in enumerate(tickers):\n",
        "    for j, ticker_2 in enumerate(tickers):\n",
        "        if i < j:  # Avoid duplicates or self-pairs\n",
        "            pair_key = f\"{ticker_1}-{ticker_2}\"\n",
        "            likelihoods = []\n",
        "\n",
        "            #Calculate likelihood for each B/A ratio\n",
        "            for value in B_over_A:\n",
        "                alpha = 1 / price_data[ticker_1][0] #calculate the weight of the first asset\n",
        "                beta = value / price_data[ticker_2][0] #weight of second asset\n",
        "                spread = alpha * price_data[ticker_1] - beta * price_data[ticker_2] #spread claculation\n",
        "                parameters = calculate_parameters(spread, dt) # get the ou paprams - theta , mu sigma\n",
        "                likelihood = log_likelihood(parameters, spread, dt)\n",
        "\n",
        "                likelihoods.append(likelihood)\n",
        "\n",
        "            # Find the optimal B for this pair\n",
        "\n",
        "            max_likelihood = np.amax(likelihoods)\n",
        "            ind = np.where(likelihoods == max_likelihood)[0] #get index of max likl\n",
        "\n",
        "            optimal_B = B_over_A[ind][0] # get corresponding beta value\n",
        "\n",
        "            # Recalculate parameters for the optimal B\n",
        "            alpha = 1 / price_data[ticker_1][0]\n",
        "            beta = optimal_B / price_data[ticker_2][0]\n",
        "            spread = alpha * price_data[ticker_1] - beta * price_data[ticker_2]\n",
        "            theta, mu, sigma = calculate_parameters(spread, dt)\n",
        "\n",
        "            # Store results\n",
        "            results[pair_key] = {\n",
        "                \"Optimal B\": optimal_B,\n",
        "                \"Theta\": theta,\n",
        "                \"Mu\": mu,\n",
        "                \"Sigma\": sigma,\n",
        "                \"Max Log Likelihood\": max_likelihood,\n",
        "            }\n"
      ]
    },
    {
      "cell_type": "code",
      "execution_count": null,
      "metadata": {
        "id": "8PZ0Mi4ouWXF"
      },
      "outputs": [],
      "source": [
        "# Display Results\n",
        "for pair, params in results.items():\n",
        "    print(f\"\\nPair: {pair}\")\n",
        "    print(f\"Optimal B: {params['Optimal B']:.4f}\")\n",
        "    print(f\"Theta (speed of reversion): {params['Theta']:.4f}\")\n",
        "    print(f\"Mu (long-term mean): {params['Mu']:.4f}\")\n",
        "    print(f\"Sigma (volatility): {params['Sigma']:.4f}\")\n",
        "    print(f\"Max Log Likelihood: {params['Max Log Likelihood']:.4f}\")"
      ]
    },
    {
      "cell_type": "markdown",
      "metadata": {
        "id": "Z1sR1FFeIrqa"
      },
      "source": [
        "### Solution for optimal trading"
      ]
    },
    {
      "cell_type": "markdown",
      "metadata": {
        "id": "2Rd3LN4JIwpr"
      },
      "source": [
        "Formulas for OU solution:\n",
        "$$F(x) = \\int_{0}^{\\infty}u^{\\frac{r}{\\mu}-1} e^{\\sqrt{\\frac{2\\mu}{\\sigma^2}}(x-\\theta)u-\\frac{u^2}{2}}du$$\n",
        "$$G(x) = \\int_{0}^{\\infty}u^{\\frac{r}{\\mu}-1} e^{\\sqrt{\\frac{2\\mu}{\\sigma^2}}(\\theta-x)u-\\frac{u^2}{2}}du$$\n",
        "$$F'(x)>0,F''(x)>0,G'(x)<0,G''(x)>0$$"
      ]
    },
    {
      "cell_type": "code",
      "execution_count": null,
      "metadata": {
        "id": "1TZmJpaBI0SV"
      },
      "outputs": [],
      "source": [
        "def F(x,r=0.05,mu=4,u=0.3,sigma=0.2,theta=0.07):\n",
        "    return u**(r/mu-1)*np.exp(np.sqrt(2*mu/sigma**2) * (x - theta) * u - u**2/2)\n",
        "def G(x,r=0.05,mu=4,u=0.3,sigma=0.2,theta=0.07):\n",
        "    return u**(r/mu-1)*np.exp(np.sqrt(2*mu/sigma**2) * (theta - x) * u - u**2/2)"
      ]
    },
    {
      "cell_type": "code",
      "execution_count": null,
      "metadata": {
        "id": "-nz9ffP2I0j6"
      },
      "outputs": [],
      "source": [
        "x = np.linspace(-0.5,0.5,100)"
      ]
    },
    {
      "cell_type": "code",
      "execution_count": null,
      "metadata": {
        "id": "IxmiAgT4I2oL"
      },
      "outputs": [],
      "source": [
        "plt.plot(x,F(x))\n",
        "plt.plot(x,G(x))"
      ]
    },
    {
      "cell_type": "code",
      "execution_count": null,
      "metadata": {
        "id": "NaLEiQ33I5vz"
      },
      "outputs": [],
      "source": [
        "kappa = 0\n",
        "# x < kappa\n",
        "x = -0.2\n",
        "E_f = F(x)/F(kappa)\n",
        "# x < kappa\n",
        "x = 0.2\n",
        "E_g = G(x)/G(kappa)\n",
        "E_f,E_g"
      ]
    },
    {
      "cell_type": "code",
      "execution_count": null,
      "metadata": {
        "id": "1U2aaROqI94N"
      },
      "outputs": [],
      "source": [
        "def psi(x,r = 0.05,mu = 4,u = 0.3,sigma = 0.2,theta = 0.07):\n",
        "    return F(x,r,mu,u,sigma,theta)/G(x,r,mu,u,sigma,theta)\n",
        "def psi_inv(x,r = 0.05,mu = 4,u = 0.3,sigma = 0.2,theta = 0.07):\n",
        "    return G(x,r,mu,u,sigma,theta)/F(x,r,mu,u,sigma,theta)"
      ]
    },
    {
      "cell_type": "code",
      "execution_count": null,
      "metadata": {
        "id": "9EN-n3sfI-84"
      },
      "outputs": [],
      "source": [
        "x = np.linspace(-0.5,0.5,100)\n",
        "plt.plot(x,psi(x))\n",
        "plt.plot(x,psi_inv(x))"
      ]
    },
    {
      "cell_type": "code",
      "execution_count": null,
      "metadata": {
        "id": "CfDsVZhCJALr"
      },
      "outputs": [],
      "source": [
        "def h(x,cost = 0.007):\n",
        "    return x - cost"
      ]
    },
    {
      "cell_type": "code",
      "execution_count": null,
      "metadata": {
        "id": "2b32nPLrJEKA"
      },
      "outputs": [],
      "source": [
        "x = 0\n",
        "a = -0.5\n",
        "b = 0.3"
      ]
    },
    {
      "cell_type": "code",
      "execution_count": null,
      "metadata": {
        "id": "tCnb_ZDyJFCD"
      },
      "outputs": [],
      "source": [
        "F(-1e3),G(-1e3)"
      ]
    },
    {
      "cell_type": "code",
      "execution_count": null,
      "metadata": {
        "id": "e8Tc3lzrJH9A"
      },
      "outputs": [],
      "source": [
        "h(a) * ( F(x)*G(b)- F(b)*G(x) ) / ( F(a)*G(b)- F(b)*G(a) ) + h(b) * ( F(a)*G(x)- F(x)*G(a) ) / ( F(a) * G(b)- F(b)*G(a) )"
      ]
    },
    {
      "cell_type": "code",
      "execution_count": null,
      "metadata": {
        "id": "6NgtFcj2JLHf"
      },
      "outputs": [],
      "source": [
        "def H(z):\n",
        "    return h(psi_inv(z) / G(psi_inv(z)))"
      ]
    },
    {
      "cell_type": "code",
      "execution_count": null,
      "metadata": {
        "id": "88D47-pSJMco"
      },
      "outputs": [],
      "source": [
        "cost = 0.007\n",
        "psi(cost)"
      ]
    },
    {
      "cell_type": "code",
      "execution_count": null,
      "metadata": {
        "colab": {
          "base_uri": "https://localhost:8080/",
          "height": 179
        },
        "id": "5Pao6Rw1JN3b",
        "outputId": "3fe6c406-c5d1-4838-c114-8003e03fc027"
      },
      "outputs": [
        {
          "ename": "NameError",
          "evalue": "name 'np' is not defined",
          "output_type": "error",
          "traceback": [
            "\u001b[0;31m---------------------------------------------------------------------------\u001b[0m",
            "\u001b[0;31mNameError\u001b[0m                                 Traceback (most recent call last)",
            "\u001b[0;32m<ipython-input-7-141fe9d1a5cf>\u001b[0m in \u001b[0;36m<cell line: 0>\u001b[0;34m()\u001b[0m\n\u001b[0;32m----> 1\u001b[0;31m \u001b[0mz\u001b[0m \u001b[0;34m=\u001b[0m \u001b[0mnp\u001b[0m\u001b[0;34m.\u001b[0m\u001b[0mlinspace\u001b[0m\u001b[0;34m(\u001b[0m\u001b[0;36m0\u001b[0m\u001b[0;34m,\u001b[0m\u001b[0;36m3\u001b[0m\u001b[0;34m,\u001b[0m\u001b[0;36m100\u001b[0m\u001b[0;34m)\u001b[0m\u001b[0;34m\u001b[0m\u001b[0;34m\u001b[0m\u001b[0m\n\u001b[0m\u001b[1;32m      2\u001b[0m \u001b[0mplt\u001b[0m\u001b[0;34m.\u001b[0m\u001b[0mplot\u001b[0m\u001b[0;34m(\u001b[0m\u001b[0mz\u001b[0m\u001b[0;34m,\u001b[0m\u001b[0mH\u001b[0m\u001b[0;34m(\u001b[0m\u001b[0mz\u001b[0m\u001b[0;34m)\u001b[0m\u001b[0;34m)\u001b[0m\u001b[0;34m\u001b[0m\u001b[0;34m\u001b[0m\u001b[0m\n",
            "\u001b[0;31mNameError\u001b[0m: name 'np' is not defined"
          ]
        }
      ],
      "source": [
        "z = np.linspace(0,3,100)\n",
        "plt.plot(z,H(z))"
      ]
    },
    {
      "cell_type": "code",
      "execution_count": null,
      "metadata": {
        "id": "GCdfPRykJPJO"
      },
      "outputs": [],
      "source": [
        "def simulate_ou(T = 1, N = 1000, theta = 1, mu = 0, sigma = 1, X0 = 0):\n",
        "    dt = T/N\n",
        "    X = [X0]\n",
        "    for i in range(N):\n",
        "        Z = np.random.normal(0,1)\n",
        "        X.append(X[i] + theta * (mu- X[i]) * dt + sigma * np.sqrt(dt) * Z)\n",
        "    time = np.linspace(0,T,N+1)\n",
        "    return np.array(X),time"
      ]
    },
    {
      "cell_type": "code",
      "execution_count": null,
      "metadata": {
        "id": "dw1KHoraJV5C"
      },
      "outputs": [],
      "source": [
        "X,time = simulate_ou()\n",
        "plt.plot(time,X)"
      ]
    },
    {
      "cell_type": "code",
      "execution_count": null,
      "metadata": {
        "id": "CPcrP6C0JXUt"
      },
      "outputs": [],
      "source": [
        "def solve_for_a(c, N = 100):\n",
        "    def lhs(a):\n",
        "        s = [(np.sqrt(2 * a))**(2 * n + 1) / factorial(2 * n + 1) * gamma((2 * n + 1) / 2) for n in range(N)]\n",
        "        return np.sum(s) / 2\n",
        "    def rhs(a):\n",
        "        s = [(np.sqrt(2 * a))**(2 * n) / factorial(2 * n) * gamma((2 * n + 1) / 2)  for n in range(N)]\n",
        "        return np.sum(s) * np.sqrt(2 / np.pi) * (a- c / 2)\n",
        "    def equation(a):\n",
        "        return lhs(a) - rhs(a)\n",
        "    res = root_scalar(equation,bracket=[1e-2,10],method='bisect')\n",
        "    print(equation(res.root))\n",
        "    return res.root"
      ]
    },
    {
      "cell_type": "code",
      "execution_count": null,
      "metadata": {
        "id": "SwjWaPZ6zzge"
      },
      "outputs": [],
      "source": [
        "c = 0.02\n",
        "a_star = solve_for_a(c)"
      ]
    },
    {
      "cell_type": "code",
      "execution_count": null,
      "metadata": {
        "id": "-TXxAc21z9mk"
      },
      "outputs": [],
      "source": [
        "a_star"
      ]
    },
    {
      "cell_type": "code",
      "execution_count": null,
      "metadata": {
        "id": "vum-8-EJz_SP"
      },
      "outputs": [],
      "source": [
        "def make_signals(T = 1, N = 1000, theta = 1, mu = 0, sigma = 1, X0 = 0):\n",
        "    X,time = simulate_ou(T,N,theta,mu,sigma,X0)\n",
        "    u_threshold = mu + a_star * sigma / np.sqrt(2*theta)\n",
        "    l_threshold = mu - a_star * sigma / np.sqrt(2*theta)\n",
        "\n",
        "    diff_u = np.array(u_threshold) - np.array(X)\n",
        "    diff_l = np.array(l_threshold) - np.array(X)\n",
        "\n",
        "    cross_u = np.where((np.sign(diff_u[:-1]) == -1) & (np.sign(diff_u[1:]) == 1))[0]\n",
        "    cross_l = np.where((np.sign(diff_l[:-1]) == 1) & (np.sign(diff_l[1:]) == -1))[0]\n",
        "\n",
        "    time_u = time[cross_u]\n",
        "    time_l = time[cross_l]\n",
        "\n",
        "    plt.figure(figsize=(20,6))\n",
        "    sns.lineplot(x=time,y=X,color='blue',label='OU process')\n",
        "    sns.lineplot(x=time,y=[u_threshold] * (N+1),linestyle='--')\n",
        "    sns.lineplot(x=time,y=[l_threshold] * (N+1),linestyle='dashed')\n",
        "    sns.scatterplot(x=time_u,y=X[cross_u],marker='o',color='red',s=200)\n",
        "    sns.scatterplot(x=time_l,y=X[cross_l],marker='o',color='green',s=200)\n",
        "\n",
        "    return time_u,time_l"
      ]
    },
    {
      "cell_type": "code",
      "execution_count": null,
      "metadata": {
        "id": "uqx1_oM80BqS"
      },
      "outputs": [],
      "source": [
        "make_signals(T = 10, N = 10000, theta = 2, mu = 1, sigma = 0.5, X0 = 1)"
      ]
    },
    {
      "cell_type": "markdown",
      "metadata": {
        "id": "3JV9cAuIqWJG"
      },
      "source": [
        "### Main Model"
      ]
    },
    {
      "cell_type": "code",
      "execution_count": null,
      "metadata": {
        "id": "fSE38yof8skh"
      },
      "outputs": [],
      "source": [
        "class OU_Trading_Model:\n",
        "    \"\"\"\n",
        "    Ornstein-Uhlenbeck Trading Model (OU Model)\n",
        "\n",
        "    This class implements a trading model based on the Ornstein-Uhlenbeck process. It is designed for mean-reversion\n",
        "    strategies using pairs of assets. The model identifies trading thresholds and executes trades based on deviations\n",
        "    from the mean.\n",
        "\n",
        "    Attributes:\n",
        "        capital (float): Initial capital for the trading model.\n",
        "        update_capital (bool): Indicates whether to update the capital automatically(for test mode).\n",
        "        dt (float): Time step size (default is 1/252, representing daily data in a trading year).\n",
        "        c (float): Transaction cost (default is 0.007).\n",
        "        is_long (bool): Indicates the current trade direction (long/short).\n",
        "        beta (float): Hedge ratio between the two assets.\n",
        "        amount_a, amount_b (float): Amounts of each asset held in the portfolio.\n",
        "        p_a, p_b (float): Current value of the portfolio in terms of each asset.\n",
        "        u_threshold, l_threshold (float): Upper and lower thresholds for trading signals.\n",
        "    \"\"\"\n",
        "\n",
        "    def __init__(self,capital,update_capital=False,dt=1/252,cost=0.007):\n",
        "        \"\"\"\n",
        "        Initialize the trading model with the given parameters.\n",
        "\n",
        "        Args:\n",
        "            capital (float): Initial capital.\n",
        "            dt (float, optional): Time step size. Default is 1/252.\n",
        "            cost (float, optional): Transaction cost per trade. Default is 0.007.\n",
        "        \"\"\"\n",
        "        self.c = cost  # Transaction cost\n",
        "        self.is_long = None  # Trade direction (long/short)\n",
        "        self.capital = capital  # Initial capital\n",
        "        self.p_a = None  # Portfolio value in asset A\n",
        "        self.p_b = None  # Portfolio value in asset B\n",
        "        self.amount_a = None  # Quantity of asset A\n",
        "        self.amount_b = None  # Quantity of asset B\n",
        "        self.dt = dt  # Time step size\n",
        "        self.update_capital = update_capital # Automatic capital updates\n",
        "\n",
        "    def setup(self, price_data):\n",
        "        \"\"\"\n",
        "        Initialize the model parameters and thresholds based on historical price data.\n",
        "\n",
        "        Args:\n",
        "            price_data (list): Historical price data for two assets, where each element is a list of prices.\n",
        "        \"\"\"\n",
        "        self.init_prices = price_data[0][0], price_data[1][0]  # Initial prices of both assets\n",
        "        params = self.calculate_likelihoods(price_data)  # Compute OU process parameters\n",
        "        self.beta = params['beta']  # Hedge ratio\n",
        "        self._set_thresholds(params['mu'], params['sigma'], params['theta'], self.c)\n",
        "\n",
        "    def trade(self, prices):\n",
        "        \"\"\"\n",
        "        Execute trading logic based on the current prices of the assets.\n",
        "\n",
        "        Args:\n",
        "            prices (list): Current prices of the two assets.\n",
        "\n",
        "        Raises:\n",
        "            Exception: If the model is not set up with initial prices.\n",
        "        \"\"\"\n",
        "        signal = False\n",
        "        if self.init_prices is None:\n",
        "            raise Exception(\"Model not setup\")\n",
        "\n",
        "        # Calculate the spread index based on initial prices and hedge ratio\n",
        "        self.index = prices[0] / self.init_prices[0] - self.beta * prices[1] / self.init_prices[1]\n",
        "\n",
        "        # Update portfolio value based on price changes and current positions\n",
        "        if self.amount_a is not None and self.amount_b is not None:\n",
        "            if self.is_long:  # Long position\n",
        "                self.p_a += (prices[0] - self._last_a) * self.amount_a\n",
        "                self.p_b += (self._last_b - prices[1]) * self.amount_b\n",
        "            else:  # Short position\n",
        "                self.p_a += (self._last_a - prices[0]) * self.amount_a\n",
        "                self.p_b += (prices[1] - self._last_b) * self.amount_b\n",
        "\n",
        "        # Update total capital\n",
        "        if self.update_capital and self.p_a is not None and self.p_b is not None:\n",
        "            self.capital = self.p_a + self.p_b\n",
        "\n",
        "        # Check if trading thresholds are crossed and adjust positions\n",
        "        if self.index <= self.l_threshold and (self.is_long is None or not self.is_long): # buy signal (long)\n",
        "            self.recalculate_amounts(prices)\n",
        "            signal = True\n",
        "            self.is_long = True\n",
        "        if self.index >= self.u_threshold and (self.is_long is None or self.is_long):\n",
        "            self.recalculate_amounts(prices)\n",
        "            signal = True\n",
        "            self.is_long = False\n",
        "\n",
        "        # Store the last prices\n",
        "        self._last_a, self._last_b = prices\n",
        "\n",
        "        # New variable to track order signals\n",
        "        return signal\n",
        "\n",
        "    def recalculate_amounts(self, prices):\n",
        "        \"\"\"\n",
        "        Recalculate the amounts of each asset to be held based on the current prices.\n",
        "\n",
        "        Args:\n",
        "            prices (list): Current prices of the two assets.\n",
        "        \"\"\"\n",
        "        self.capital -= self.c if self.update_capital else 0 # Deduct transaction cost\n",
        "        self.amount_a = self.capital / (prices[0] + self.beta * prices[1])\n",
        "        self.amount_b = self.beta * self.amount_a\n",
        "        if self.is_long is None:  # Initialize portfolio values\n",
        "            self.p_a = self.amount_a * prices[0]\n",
        "            self.p_b = self.amount_b * prices[1]\n",
        "\n",
        "    def _set_thresholds(self, mu, sigma, theta, c):\n",
        "        \"\"\"\n",
        "        Compute and set the upper and lower thresholds for trading.\n",
        "\n",
        "        Args:\n",
        "            mu (float): Mean reversion level.\n",
        "            sigma (float): Volatility of the spread.\n",
        "            theta (float): Speed of mean reversion.\n",
        "            c (float): Transaction cost.\n",
        "        \"\"\"\n",
        "        def solve_for_a(c, N=100):\n",
        "            \"\"\"\n",
        "            Solve for the threshold scaling factor 'a' using numerical methods.\n",
        "            \"\"\"\n",
        "            def lhs(a):\n",
        "                s = [(np.sqrt(2) * a)**(2 * n + 1) / factorial(2 * n + 1) * gamma((2 * n + 1) / 2) for n in range(N)]\n",
        "                return np.sum(s) / 2\n",
        "\n",
        "            def rhs(a):\n",
        "                s = [(np.sqrt(2) * a)**(2 * n) / factorial(2 * n) * gamma((2 * n + 1) / 2) for n in range(N)]\n",
        "                return np.sum(s) * np.sqrt(2) / 2 * (a - c / 2)\n",
        "\n",
        "            def equation(a):\n",
        "                return lhs(a) - rhs(a)\n",
        "\n",
        "            res = root_scalar(equation, bracket=[1e-2, 10], method='brentq')  # Numerical solver\n",
        "            return res.root\n",
        "\n",
        "        a_star = solve_for_a(c)\n",
        "        self.u_threshold = mu + a_star * sigma / np.sqrt(2 * theta)\n",
        "        self.l_threshold = mu - a_star * sigma / np.sqrt(2 * theta)\n",
        "\n",
        "    def calculate_likelihoods(self, price_data, dt=None):\n",
        "        \"\"\"\n",
        "        Calculate the optimal parameters (beta, theta, mu, sigma) based on historical price data.\n",
        "\n",
        "        Args:\n",
        "            price_data (list): Historical price data for two assets.\n",
        "            dt (float, optional): Time step size. If not provided, uses the model's default.\n",
        "\n",
        "        Returns:\n",
        "            dict: Contains the optimal beta, theta, mu, sigma, and log-likelihood.\n",
        "        \"\"\"\n",
        "        if dt is None:\n",
        "            dt = self.dt\n",
        "\n",
        "        # B/A Ratios to Test\n",
        "        B_over_A = np.linspace(0.001, 1, 1000)\n",
        "\n",
        "        # likelihood and param dictionaries\n",
        "        results = {}\n",
        "\n",
        "        likelihoods = []\n",
        "\n",
        "        # Calculate likelihood for each B/A ratio\n",
        "        for value in B_over_A:\n",
        "            alpha = 1 / price_data[0][0] # calculate the weight of the first asset\n",
        "            beta = value / price_data[1][0] # weight of second asset\n",
        "            spread = alpha * price_data[0] - beta * price_data[1] #s pread claculation\n",
        "            parameters = calculate_parameters(spread, dt) # get the ou paprams - theta , mu sigma\n",
        "            likelihood = log_likelihood(parameters, spread, dt)\n",
        "\n",
        "            likelihoods.append(likelihood)\n",
        "\n",
        "        # Find the optimal B for this pair\n",
        "\n",
        "        ind = np.argmax(likelihoods)\n",
        "        max_likelihood = likelihoods[ind]\n",
        "\n",
        "        optimal_B = B_over_A[ind] # get corresponding beta value\n",
        "\n",
        "        # Recalculate parameters for the optimal B\n",
        "        alpha = 1 / price_data[0][0]\n",
        "        beta = optimal_B / price_data[1][0]\n",
        "        spread = alpha * price_data[0] - beta * price_data[1]\n",
        "        mu, theta, sigma = calculate_parameters(spread, dt)\n",
        "\n",
        "        # Store results\n",
        "        results = {\n",
        "            'beta': optimal_B,\n",
        "            'theta': theta,\n",
        "            'mu': mu,\n",
        "            'sigma': sigma,\n",
        "            'log_l': max_likelihood,\n",
        "        }\n",
        "        return results"
      ]
    },
    {
      "cell_type": "markdown",
      "metadata": {
        "id": "E0nvfgKNqiEp"
      },
      "source": [
        "### Example"
      ]
    },
    {
      "cell_type": "code",
      "execution_count": null,
      "metadata": {
        "colab": {
          "base_uri": "https://localhost:8080/"
        },
        "id": "oUNcszr5A3l1",
        "outputId": "b6c60bce-2134-46d5-9081-25b622c95a54"
      },
      "outputs": [
        {
          "name": "stderr",
          "output_type": "stream",
          "text": [
            "[*********************100%***********************]  1 of 1 completed\n",
            "[*********************100%***********************]  1 of 1 completed\n",
            "[*********************100%***********************]  1 of 1 completed\n",
            "[*********************100%***********************]  1 of 1 completed\n"
          ]
        }
      ],
      "source": [
        "tickers = ['GLD', 'SLV']\n",
        "\n",
        "start_date = '2006-05-01'\n",
        "end_date = '2012-05-16'\n",
        "\n",
        "data_train_yf = np.array([yf.download(ticker, start=start_date, end=end_date)['Close'].values.T[0] for ticker in tickers])\n",
        "\n",
        "start_date = '2012-05-17'\n",
        "end_date = '2025-01-21'\n",
        "\n",
        "data_test_yf = np.array([yf.download(ticker, start=start_date, end=end_date)['Close'].values.T[0] for ticker in tickers])"
      ]
    },
    {
      "cell_type": "code",
      "execution_count": null,
      "metadata": {
        "colab": {
          "base_uri": "https://localhost:8080/"
        },
        "id": "QOzdZhaP2whA",
        "outputId": "85ea6355-f6c8-4e33-fc48-0350d4c5e533"
      },
      "outputs": [
        {
          "data": {
            "text/plain": [
              "((2, 1523), (2, 3187))"
            ]
          },
          "execution_count": 13,
          "metadata": {},
          "output_type": "execute_result"
        }
      ],
      "source": [
        "data_train_yf.shape,data_test_yf.shape"
      ]
    },
    {
      "cell_type": "code",
      "execution_count": null,
      "metadata": {
        "id": "rD1cm2Duwl1R"
      },
      "outputs": [],
      "source": [
        "def test(interval = 100,window = 500,data_train=data_train_yf,data_test=data_test_yf):\n",
        "    \"\"\"\n",
        "    Test the OU Trading Model on historical data.\n",
        "\n",
        "    Args:\n",
        "        interval (int): Interval for the test function.\n",
        "        window (int): Window size for the test function.\n",
        "        data_train (np.ndarray): Historical data for training the model.\n",
        "        data_test (np.ndarray): Historical data for testing the model.\n",
        "\n",
        "    Returns:\n",
        "        pd.DataFrame: A DataFrame containing the test results.\n",
        "    \"\"\"\n",
        "    if data_train.shape[1] < window:\n",
        "        raise Exception(f'Train(historical) dataset too small({data_train.shape[1]}) for model initial setup')\n",
        "\n",
        "    # initialize arrays\n",
        "    cap = []\n",
        "    a = []\n",
        "    b = []\n",
        "    u = []\n",
        "    d = []\n",
        "    index = []\n",
        "    signals = []\n",
        "    side = []\n",
        "    p_a = []\n",
        "    p_b = []\n",
        "\n",
        "    # work data for keeping last timeframe for setup\n",
        "    work_data = data_train\n",
        "\n",
        "    # main model, True for keeping track of value kept in A and B\n",
        "    # (p_a and p_b in OU_Trading_Model class)\n",
        "\n",
        "    model = OU_Trading_Model(100,True)\n",
        "\n",
        "    for i,prices in enumerate(data_test.T):\n",
        "        if i % interval == 0: # recalc. parameters every (interval) steps\n",
        "            model.setup(work_data[:,-window:])\n",
        "\n",
        "        signal = model.trade(prices)\n",
        "        signals.append(signal)\n",
        "        a.append(model.amount_a)\n",
        "        b.append(model.amount_b)\n",
        "        u.append(model.u_threshold)\n",
        "        d.append(model.l_threshold)\n",
        "        index.append(model.index)\n",
        "        cap.append(model.capital)\n",
        "        side.append(model.is_long)\n",
        "        p_a.append(model.p_a)\n",
        "        p_b.append(model.p_b)\n",
        "\n",
        "        work_data = np.concatenate((work_data.T[1:],np.array([prices]))).T # append new prices to work data\n",
        "\n",
        "    return pd.DataFrame({'Capital':cap,'A':p_a,'B':p_b,'AmountA':a,'AmountB':b,'Upper':u,'Lower':d,'Index':index,'Signal':signals,'Side':side})"
      ]
    },
    {
      "cell_type": "code",
      "execution_count": null,
      "metadata": {
        "colab": {
          "base_uri": "https://localhost:8080/",
          "height": 468
        },
        "id": "OC_4lBFjF_bw",
        "outputId": "9063a8a3-131a-4898-d662-1a506b49bec5"
      },
      "outputs": [
        {
          "data": {
            "text/plain": [
              "[<matplotlib.lines.Line2D at 0x7f17671b7d90>]"
            ]
          },
          "execution_count": 15,
          "metadata": {},
          "output_type": "execute_result"
        },
        {
          "data": {
            "image/png": "[encoded data removed]",
            "text/plain": [
              "<Figure size 640x480 with 1 Axes>"
            ]
          },
          "metadata": {},
          "output_type": "display_data"
        }
      ],
      "source": [
        "plt.plot(data_test_yf[0])"
      ]
    },
    {
      "cell_type": "code",
      "execution_count": null,
      "metadata": {
        "colab": {
          "base_uri": "https://localhost:8080/",
          "height": 472
        },
        "id": "fPN0jWYcGGCx",
        "outputId": "2b9df693-46b9-4d2c-96c8-757bcf84b709"
      },
      "outputs": [
        {
          "data": {
            "text/plain": [
              "[<matplotlib.lines.Line2D at 0x7f17672008d0>]"
            ]
          },
          "execution_count": 16,
          "metadata": {},
          "output_type": "execute_result"
        },
        {
          "data": {
            "image/png": "[encoded data removed]",
            "text/plain": [
              "<Figure size 640x480 with 1 Axes>"
            ]
          },
          "metadata": {},
          "output_type": "display_data"
        }
      ],
      "source": [
        "plt.plot(data_test_yf[1])"
      ]
    },
    {
      "cell_type": "code",
      "execution_count": null,
      "metadata": {
        "colab": {
          "background_save": true,
          "base_uri": "https://localhost:8080/"
        },
        "id": "-8Ej0FMkWsWQ",
        "outputId": "b340fed5-6058-45d1-a6e6-f427b827a370"
      },
      "outputs": [
        {
          "name": "stderr",
          "output_type": "stream",
          "text": [
            "<ipython-input-11-96e6a3c9a255>:141: RuntimeWarning: invalid value encountered in sqrt\n",
            "  self.u_threshold = mu + a_star * sigma / np.sqrt(2 * theta)\n",
            "<ipython-input-11-96e6a3c9a255>:142: RuntimeWarning: invalid value encountered in sqrt\n",
            "  self.l_threshold = mu - a_star * sigma / np.sqrt(2 * theta)\n"
          ]
        },
        {
          "data": {
            "text/plain": [
              "<Axes: >"
            ]
          },
          "execution_count": 17,
          "metadata": {},
          "output_type": "execute_result"
        },
        {
          "data": {
            "image/png": "[encoded data removed]",
            "text/plain": [
              "<Figure size 640x480 with 1 Axes>"
            ]
          },
          "metadata": {},
          "output_type": "display_data"
        }
      ],
      "source": [
        "test_result = test(20,1500)\n",
        "test_result['Capital'].plot()"
      ]
    },
    {
      "cell_type": "code",
      "execution_count": null,
      "metadata": {
        "colab": {
          "background_save": true
        },
        "id": "uTCEuPIso5e9",
        "outputId": "8ac9d21b-1312-42ae-d743-4138dce02c8a"
      },
      "outputs": [
        {
          "data": {
            "text/plain": [
              "<Axes: >"
            ]
          },
          "execution_count": 18,
          "metadata": {},
          "output_type": "execute_result"
        },
        {
          "data": {
            "image/png": "[encoded data removed]",
            "text/plain": [
              "<Figure size 640x480 with 1 Axes>"
            ]
          },
          "metadata": {},
          "output_type": "display_data"
        }
      ],
      "source": [
        "test_result.iloc[200:400][['Index','Upper','Lower']].plot()"
      ]
    },
    {
      "cell_type": "code",
      "execution_count": null,
      "metadata": {
        "colab": {
          "background_save": true
        },
        "id": "Pyq0bHADEyA-",
        "outputId": "43767b0d-c455-427b-e6a8-1c5ff2206a5e"
      },
      "outputs": [
        {
          "data": {
            "application/vnd.google.colaboratory.intrinsic+json": {
              "summary": "{\n  \"name\": \"test_result[test_result\",\n  \"rows\": 33,\n  \"fields\": [\n    {\n      \"column\": \"Capital\",\n      \"properties\": {\n        \"dtype\": \"number\",\n        \"std\": 33.97692591450092,\n        \"min\": 99.993,\n        \"max\": 222.6248239739214,\n        \"num_unique_values\": 33,\n        \"samples\": [\n          192.61699116827262,\n          211.83609374764507,\n          200.25477427703206\n        ],\n        \"semantic_type\": \"\",\n        \"description\": \"\"\n      }\n    },\n    {\n      \"column\": \"A\",\n      \"properties\": {\n        \"dtype\": \"number\",\n        \"std\": 36.28708835847093,\n        \"min\": 93.72714429449154,\n        \"max\": 218.37276923587189,\n        \"num_unique_values\": 33,\n        \"samples\": [\n          197.98085521800272,\n          208.7059630677013,\n          202.88096534120683\n        ],\n        \"semantic_type\": \"\",\n        \"description\": \"\"\n      }\n    },\n    {\n      \"column\": \"B\",\n      \"properties\": {\n        \"dtype\": \"number\",\n        \"std\": 3.962498907988765,\n        \"min\": -5.732664283614751,\n        \"max\": 6.265855705508453,\n        \"num_unique_values\": 33,\n        \"samples\": [\n          -5.356864049730089,\n          3.137130679943753,\n          -2.6191910641747773\n        ],\n        \"semantic_type\": \"\",\n        \"description\": \"\"\n      }\n    },\n    {\n      \"column\": \"AmountA\",\n      \"properties\": {\n        \"dtype\": \"number\",\n        \"std\": 0.30641277170219633,\n        \"min\": 0.6086168623113916,\n        \"max\": 1.7244888829488674,\n        \"num_unique_values\": 33,\n        \"samples\": [\n          0.8082093581150616,\n          1.643576410117452,\n          1.1882161928546788\n        ],\n        \"semantic_type\": \"\",\n        \"description\": \"\"\n      }\n    },\n    {\n      \"column\": \"AmountB\",\n      \"properties\": {\n        \"dtype\": \"number\",\n        \"std\": 0.16685279357349553,\n        \"min\": 0.2300240733537733,\n        \"max\": 1.0231001765352215,\n        \"num_unique_values\": 33,\n        \"samples\": [\n          0.314393440306759,\n          0.512795839956645,\n          0.5168740438917853\n        ],\n        \"semantic_type\": \"\",\n        \"description\": \"\"\n      }\n    },\n    {\n      \"column\": \"Upper\",\n      \"properties\": {\n        \"dtype\": \"number\",\n        \"std\": 0.32372395795096887,\n        \"min\": 0.5253456919766312,\n        \"max\": 1.774853941011548,\n        \"num_unique_values\": 30,\n        \"samples\": [\n          1.0770770930845945,\n          0.5253456919766312,\n          0.842416406389132\n        ],\n        \"semantic_type\": \"\",\n        \"description\": \"\"\n      }\n    },\n    {\n      \"column\": \"Lower\",\n      \"properties\": {\n        \"dtype\": \"number\",\n        \"std\": 0.29536842706661265,\n        \"min\": 0.5088360168644545,\n        \"max\": 1.661005065586358,\n        \"num_unique_values\": 30,\n        \"samples\": [\n          1.017432920993935,\n          0.5088360168644545,\n          0.7874363505088846\n        ],\n        \"semantic_type\": \"\",\n        \"description\": \"\"\n      }\n    },\n    {\n      \"column\": \"Index\",\n      \"properties\": {\n        \"dtype\": \"number\",\n        \"std\": 0.28856895641464647,\n        \"min\": 0.5255349596461814,\n        \"max\": 1.5672849071348087,\n        \"num_unique_values\": 33,\n        \"samples\": [\n          1.290535026511928,\n          0.7356644174466226,\n          0.8414887255823351\n        ],\n        \"semantic_type\": \"\",\n        \"description\": \"\"\n      }\n    },\n    {\n      \"column\": \"Signal\",\n      \"properties\": {\n        \"dtype\": \"boolean\",\n        \"num_unique_values\": 1,\n        \"samples\": [\n          true\n        ],\n        \"semantic_type\": \"\",\n        \"description\": \"\"\n      }\n    },\n    {\n      \"column\": \"Side\",\n      \"properties\": {\n        \"dtype\": \"boolean\",\n        \"num_unique_values\": 2,\n        \"samples\": [\n          false\n        ],\n        \"semantic_type\": \"\",\n        \"description\": \"\"\n      }\n    }\n  ]\n}",
              "type": "dataframe"
            },
            "text/html": [
              "\n",
              "  <div id=\"df-0b495fcc-cd41-4cf5-a840-d0e251bf54c6\" class=\"colab-df-container\">\n",
              "    <div>\n",
              "<style scoped>\n",
              "    .dataframe tbody tr th:only-of-type {\n",
              "        vertical-align: middle;\n",
              "    }\n",
              "\n",
              "    .dataframe tbody tr th {\n",
              "        vertical-align: top;\n",
              "    }\n",
              "\n",
              "    .dataframe thead th {\n",
              "        text-align: right;\n",
              "    }\n",
              "</style>\n",
              "<table border=\"1\" class=\"dataframe\">\n",
              "  <thead>\n",
              "    <tr style=\"text-align: right;\">\n",
              "      <th></th>\n",
              "      <th>Capital</th>\n",
              "      <th>A</th>\n",
              "      <th>B</th>\n",
              "      <th>AmountA</th>\n",
              "      <th>AmountB</th>\n",
              "      <th>Upper</th>\n",
              "      <th>Lower</th>\n",
              "      <th>Index</th>\n",
              "      <th>Signal</th>\n",
              "      <th>Side</th>\n",
              "    </tr>\n",
              "  </thead>\n",
              "  <tbody>\n",
              "    <tr>\n",
              "      <th>0</th>\n",
              "      <td>99.993000</td>\n",
              "      <td>93.727144</td>\n",
              "      <td>6.265856</td>\n",
              "      <td>0.613398</td>\n",
              "      <td>0.230024</td>\n",
              "      <td>1.745587</td>\n",
              "      <td>1.590266</td>\n",
              "      <td>1.567285</td>\n",
              "      <td>True</td>\n",
              "      <td>True</td>\n",
              "    </tr>\n",
              "    <tr>\n",
              "      <th>207</th>\n",
              "      <td>101.405249</td>\n",
              "      <td>95.309711</td>\n",
              "      <td>6.102538</td>\n",
              "      <td>0.608617</td>\n",
              "      <td>0.244664</td>\n",
              "      <td>1.506811</td>\n",
              "      <td>1.394937</td>\n",
              "      <td>1.517145</td>\n",
              "      <td>True</td>\n",
              "      <td>False</td>\n",
              "    </tr>\n",
              "    <tr>\n",
              "      <th>226</th>\n",
              "      <td>114.620931</td>\n",
              "      <td>109.959123</td>\n",
              "      <td>4.668807</td>\n",
              "      <td>0.817997</td>\n",
              "      <td>0.326381</td>\n",
              "      <td>1.480595</td>\n",
              "      <td>1.371324</td>\n",
              "      <td>1.294428</td>\n",
              "      <td>True</td>\n",
              "      <td>True</td>\n",
              "    </tr>\n",
              "    <tr>\n",
              "      <th>243</th>\n",
              "      <td>123.405432</td>\n",
              "      <td>119.079797</td>\n",
              "      <td>4.332635</td>\n",
              "      <td>0.813317</td>\n",
              "      <td>0.326140</td>\n",
              "      <td>1.457984</td>\n",
              "      <td>1.352492</td>\n",
              "      <td>1.463663</td>\n",
              "      <td>True</td>\n",
              "      <td>False</td>\n",
              "    </tr>\n",
              "    <tr>\n",
              "      <th>250</th>\n",
              "      <td>132.108145</td>\n",
              "      <td>128.343472</td>\n",
              "      <td>3.771674</td>\n",
              "      <td>0.945985</td>\n",
              "      <td>0.379340</td>\n",
              "      <td>1.457984</td>\n",
              "      <td>1.352492</td>\n",
              "      <td>1.342605</td>\n",
              "      <td>True</td>\n",
              "      <td>True</td>\n",
              "    </tr>\n",
              "    <tr>\n",
              "      <th>260</th>\n",
              "      <td>137.034275</td>\n",
              "      <td>133.489618</td>\n",
              "      <td>3.551657</td>\n",
              "      <td>0.940539</td>\n",
              "      <td>0.393145</td>\n",
              "      <td>1.405725</td>\n",
              "      <td>1.307985</td>\n",
              "      <td>1.406916</td>\n",
              "      <td>True</td>\n",
              "      <td>False</td>\n",
              "    </tr>\n",
              "    <tr>\n",
              "      <th>273</th>\n",
              "      <td>147.993260</td>\n",
              "      <td>145.631970</td>\n",
              "      <td>2.368289</td>\n",
              "      <td>1.125172</td>\n",
              "      <td>0.470322</td>\n",
              "      <td>1.405725</td>\n",
              "      <td>1.307985</td>\n",
              "      <td>1.303440</td>\n",
              "      <td>True</td>\n",
              "      <td>True</td>\n",
              "    </tr>\n",
              "    <tr>\n",
              "      <th>294</th>\n",
              "      <td>153.512900</td>\n",
              "      <td>151.527869</td>\n",
              "      <td>1.992031</td>\n",
              "      <td>1.121138</td>\n",
              "      <td>0.458546</td>\n",
              "      <td>1.321910</td>\n",
              "      <td>1.230088</td>\n",
              "      <td>1.330352</td>\n",
              "      <td>True</td>\n",
              "      <td>False</td>\n",
              "    </tr>\n",
              "    <tr>\n",
              "      <th>351</th>\n",
              "      <td>159.122560</td>\n",
              "      <td>156.651471</td>\n",
              "      <td>2.478089</td>\n",
              "      <td>1.202457</td>\n",
              "      <td>0.465351</td>\n",
              "      <td>1.196175</td>\n",
              "      <td>1.114169</td>\n",
              "      <td>1.098425</td>\n",
              "      <td>True</td>\n",
              "      <td>True</td>\n",
              "    </tr>\n",
              "    <tr>\n",
              "      <th>454</th>\n",
              "      <td>166.211925</td>\n",
              "      <td>163.373209</td>\n",
              "      <td>2.845716</td>\n",
              "      <td>1.199069</td>\n",
              "      <td>0.523993</td>\n",
              "      <td>0.912146</td>\n",
              "      <td>0.849997</td>\n",
              "      <td>0.918008</td>\n",
              "      <td>True</td>\n",
              "      <td>False</td>\n",
              "    </tr>\n",
              "    <tr>\n",
              "      <th>509</th>\n",
              "      <td>175.995869</td>\n",
              "      <td>174.068902</td>\n",
              "      <td>1.933967</td>\n",
              "      <td>1.371789</td>\n",
              "      <td>0.551459</td>\n",
              "      <td>1.017919</td>\n",
              "      <td>0.954880</td>\n",
              "      <td>0.951539</td>\n",
              "      <td>True</td>\n",
              "      <td>True</td>\n",
              "    </tr>\n",
              "    <tr>\n",
              "      <th>679</th>\n",
              "      <td>180.409619</td>\n",
              "      <td>177.512085</td>\n",
              "      <td>2.904534</td>\n",
              "      <td>1.410378</td>\n",
              "      <td>0.380802</td>\n",
              "      <td>1.105231</td>\n",
              "      <td>1.047713</td>\n",
              "      <td>1.109919</td>\n",
              "      <td>True</td>\n",
              "      <td>False</td>\n",
              "    </tr>\n",
              "    <tr>\n",
              "      <th>687</th>\n",
              "      <td>189.232658</td>\n",
              "      <td>186.510293</td>\n",
              "      <td>2.729365</td>\n",
              "      <td>1.552027</td>\n",
              "      <td>0.468712</td>\n",
              "      <td>0.971446</td>\n",
              "      <td>0.918919</td>\n",
              "      <td>0.906285</td>\n",
              "      <td>True</td>\n",
              "      <td>True</td>\n",
              "    </tr>\n",
              "    <tr>\n",
              "      <th>953</th>\n",
              "      <td>195.653646</td>\n",
              "      <td>192.190716</td>\n",
              "      <td>3.469930</td>\n",
              "      <td>1.564228</td>\n",
              "      <td>0.469268</td>\n",
              "      <td>0.820707</td>\n",
              "      <td>0.781815</td>\n",
              "      <td>0.832572</td>\n",
              "      <td>True</td>\n",
              "      <td>False</td>\n",
              "    </tr>\n",
              "    <tr>\n",
              "      <th>982</th>\n",
              "      <td>201.710341</td>\n",
              "      <td>197.853226</td>\n",
              "      <td>3.864116</td>\n",
              "      <td>1.651863</td>\n",
              "      <td>0.538507</td>\n",
              "      <td>0.798052</td>\n",
              "      <td>0.761116</td>\n",
              "      <td>0.759761</td>\n",
              "      <td>True</td>\n",
              "      <td>True</td>\n",
              "    </tr>\n",
              "    <tr>\n",
              "      <th>1025</th>\n",
              "      <td>211.836094</td>\n",
              "      <td>208.705963</td>\n",
              "      <td>3.137131</td>\n",
              "      <td>1.643576</td>\n",
              "      <td>0.512796</td>\n",
              "      <td>0.732018</td>\n",
              "      <td>0.696912</td>\n",
              "      <td>0.735664</td>\n",
              "      <td>True</td>\n",
              "      <td>False</td>\n",
              "    </tr>\n",
              "    <tr>\n",
              "      <th>1129</th>\n",
              "      <td>218.741481</td>\n",
              "      <td>215.165219</td>\n",
              "      <td>3.583263</td>\n",
              "      <td>1.724489</td>\n",
              "      <td>0.696694</td>\n",
              "      <td>0.650756</td>\n",
              "      <td>0.620052</td>\n",
              "      <td>0.608213</td>\n",
              "      <td>True</td>\n",
              "      <td>True</td>\n",
              "    </tr>\n",
              "    <tr>\n",
              "      <th>1268</th>\n",
              "      <td>222.624824</td>\n",
              "      <td>218.372769</td>\n",
              "      <td>4.259055</td>\n",
              "      <td>1.691075</td>\n",
              "      <td>1.023100</td>\n",
              "      <td>0.525346</td>\n",
              "      <td>0.508836</td>\n",
              "      <td>0.525535</td>\n",
              "      <td>True</td>\n",
              "      <td>False</td>\n",
              "    </tr>\n",
              "    <tr>\n",
              "      <th>1820</th>\n",
              "      <td>187.779219</td>\n",
              "      <td>184.263796</td>\n",
              "      <td>3.522422</td>\n",
              "      <td>1.236549</td>\n",
              "      <td>0.785209</td>\n",
              "      <td>0.703878</td>\n",
              "      <td>0.650687</td>\n",
              "      <td>0.609591</td>\n",
              "      <td>True</td>\n",
              "      <td>True</td>\n",
              "    </tr>\n",
              "    <tr>\n",
              "      <th>1840</th>\n",
              "      <td>186.003780</td>\n",
              "      <td>183.336384</td>\n",
              "      <td>2.674396</td>\n",
              "      <td>1.229495</td>\n",
              "      <td>0.743844</td>\n",
              "      <td>0.546672</td>\n",
              "      <td>0.514208</td>\n",
              "      <td>0.606252</td>\n",
              "      <td>True</td>\n",
              "      <td>False</td>\n",
              "    </tr>\n",
              "    <tr>\n",
              "      <th>1940</th>\n",
              "      <td>178.992595</td>\n",
              "      <td>176.697121</td>\n",
              "      <td>2.302474</td>\n",
              "      <td>1.144584</td>\n",
              "      <td>0.692473</td>\n",
              "      <td>1.149076</td>\n",
              "      <td>1.065948</td>\n",
              "      <td>0.677241</td>\n",
              "      <td>True</td>\n",
              "      <td>True</td>\n",
              "    </tr>\n",
              "    <tr>\n",
              "      <th>2266</th>\n",
              "      <td>206.324473</td>\n",
              "      <td>210.496699</td>\n",
              "      <td>-4.165226</td>\n",
              "      <td>1.104722</td>\n",
              "      <td>0.462878</td>\n",
              "      <td>0.866058</td>\n",
              "      <td>0.807885</td>\n",
              "      <td>0.866594</td>\n",
              "      <td>True</td>\n",
              "      <td>False</td>\n",
              "    </tr>\n",
              "    <tr>\n",
              "      <th>2284</th>\n",
              "      <td>211.437054</td>\n",
              "      <td>215.854606</td>\n",
              "      <td>-4.410552</td>\n",
              "      <td>1.166131</td>\n",
              "      <td>0.471117</td>\n",
              "      <td>0.922185</td>\n",
              "      <td>0.858460</td>\n",
              "      <td>0.849077</td>\n",
              "      <td>True</td>\n",
              "      <td>True</td>\n",
              "    </tr>\n",
              "    <tr>\n",
              "      <th>2306</th>\n",
              "      <td>210.615958</td>\n",
              "      <td>214.105410</td>\n",
              "      <td>-3.482452</td>\n",
              "      <td>1.177112</td>\n",
              "      <td>0.470845</td>\n",
              "      <td>0.943785</td>\n",
              "      <td>0.884012</td>\n",
              "      <td>0.945487</td>\n",
              "      <td>True</td>\n",
              "      <td>False</td>\n",
              "    </tr>\n",
              "    <tr>\n",
              "      <th>2460</th>\n",
              "      <td>202.027744</td>\n",
              "      <td>205.936249</td>\n",
              "      <td>-3.901505</td>\n",
              "      <td>1.093131</td>\n",
              "      <td>0.403365</td>\n",
              "      <td>1.034328</td>\n",
              "      <td>0.957559</td>\n",
              "      <td>0.930923</td>\n",
              "      <td>True</td>\n",
              "      <td>True</td>\n",
              "    </tr>\n",
              "    <tr>\n",
              "      <th>2570</th>\n",
              "      <td>193.290821</td>\n",
              "      <td>195.682671</td>\n",
              "      <td>-2.384850</td>\n",
              "      <td>1.100658</td>\n",
              "      <td>0.498598</td>\n",
              "      <td>0.842416</td>\n",
              "      <td>0.787436</td>\n",
              "      <td>0.850832</td>\n",
              "      <td>True</td>\n",
              "      <td>False</td>\n",
              "    </tr>\n",
              "    <tr>\n",
              "      <th>2596</th>\n",
              "      <td>200.254774</td>\n",
              "      <td>202.880965</td>\n",
              "      <td>-2.619191</td>\n",
              "      <td>1.188216</td>\n",
              "      <td>0.516874</td>\n",
              "      <td>0.903506</td>\n",
              "      <td>0.844233</td>\n",
              "      <td>0.841489</td>\n",
              "      <td>True</td>\n",
              "      <td>True</td>\n",
              "    </tr>\n",
              "    <tr>\n",
              "      <th>2675</th>\n",
              "      <td>212.638118</td>\n",
              "      <td>217.187080</td>\n",
              "      <td>-4.541962</td>\n",
              "      <td>1.168232</td>\n",
              "      <td>0.498835</td>\n",
              "      <td>0.955217</td>\n",
              "      <td>0.905486</td>\n",
              "      <td>0.972768</td>\n",
              "      <td>True</td>\n",
              "      <td>False</td>\n",
              "    </tr>\n",
              "    <tr>\n",
              "      <th>2980</th>\n",
              "      <td>180.635666</td>\n",
              "      <td>184.850409</td>\n",
              "      <td>-4.207743</td>\n",
              "      <td>0.864885</td>\n",
              "      <td>0.326062</td>\n",
              "      <td>1.130714</td>\n",
              "      <td>1.054716</td>\n",
              "      <td>1.033966</td>\n",
              "      <td>True</td>\n",
              "      <td>True</td>\n",
              "    </tr>\n",
              "    <tr>\n",
              "      <th>3040</th>\n",
              "      <td>192.278052</td>\n",
              "      <td>197.927466</td>\n",
              "      <td>-5.642414</td>\n",
              "      <td>0.850542</td>\n",
              "      <td>0.334263</td>\n",
              "      <td>1.077077</td>\n",
              "      <td>1.017433</td>\n",
              "      <td>1.123796</td>\n",
              "      <td>True</td>\n",
              "      <td>False</td>\n",
              "    </tr>\n",
              "    <tr>\n",
              "      <th>3061</th>\n",
              "      <td>186.863413</td>\n",
              "      <td>192.603077</td>\n",
              "      <td>-5.732664</td>\n",
              "      <td>0.805056</td>\n",
              "      <td>0.313167</td>\n",
              "      <td>1.287173</td>\n",
              "      <td>1.208699</td>\n",
              "      <td>1.200993</td>\n",
              "      <td>True</td>\n",
              "      <td>True</td>\n",
              "    </tr>\n",
              "    <tr>\n",
              "      <th>3077</th>\n",
              "      <td>192.616991</td>\n",
              "      <td>197.980855</td>\n",
              "      <td>-5.356864</td>\n",
              "      <td>0.808209</td>\n",
              "      <td>0.314393</td>\n",
              "      <td>1.287173</td>\n",
              "      <td>1.208699</td>\n",
              "      <td>1.290535</td>\n",
              "      <td>True</td>\n",
              "      <td>False</td>\n",
              "    </tr>\n",
              "    <tr>\n",
              "      <th>3080</th>\n",
              "      <td>193.945631</td>\n",
              "      <td>199.193169</td>\n",
              "      <td>-5.240538</td>\n",
              "      <td>0.819425</td>\n",
              "      <td>0.309743</td>\n",
              "      <td>1.774854</td>\n",
              "      <td>1.661005</td>\n",
              "      <td>1.289750</td>\n",
              "      <td>True</td>\n",
              "      <td>True</td>\n",
              "    </tr>\n",
              "  </tbody>\n",
              "</table>\n",
              "</div>\n",
              "    <div class=\"colab-df-buttons\">\n",
              "\n",
              "  <div class=\"colab-df-container\">\n",
              "    <button class=\"colab-df-convert\" onclick=\"convertToInteractive('df-0b495fcc-cd41-4cf5-a840-d0e251bf54c6')\"\n",
              "            title=\"Convert this dataframe to an interactive table.\"\n",
              "            style=\"display:none;\">\n",
              "\n",
              "  <svg xmlns=\"http://www.w3.org/2000/svg\" height=\"24px\" viewBox=\"0 -960 960 960\">\n",
              "    <path d=\"M120-120v-720h720v720H120Zm60-500h600v-160H180v160Zm220 220h160v-160H400v160Zm0 220h160v-160H400v160ZM180-400h160v-160H180v160Zm440 0h160v-160H620v160ZM180-180h160v-160H180v160Zm440 0h160v-160H620v160Z\"/>\n",
              "  </svg>\n",
              "    </button>\n",
              "\n",
              "  <style>\n",
              "    .colab-df-container {\n",
              "      display:flex;\n",
              "      gap: 12px;\n",
              "    }\n",
              "\n",
              "    .colab-df-convert {\n",
              "      background-color: #E8F0FE;\n",
              "      border: none;\n",
              "      border-radius: 50%;\n",
              "      cursor: pointer;\n",
              "      display: none;\n",
              "      fill: #1967D2;\n",
              "      height: 32px;\n",
              "      padding: 0 0 0 0;\n",
              "      width: 32px;\n",
              "    }\n",
              "\n",
              "    .colab-df-convert:hover {\n",
              "      background-color: #E2EBFA;\n",
              "      box-shadow: 0px 1px 2px rgba(60, 64, 67, 0.3), 0px 1px 3px 1px rgba(60, 64, 67, 0.15);\n",
              "      fill: #174EA6;\n",
              "    }\n",
              "\n",
              "    .colab-df-buttons div {\n",
              "      margin-bottom: 4px;\n",
              "    }\n",
              "\n",
              "    [theme=dark] .colab-df-convert {\n",
              "      background-color: #3B4455;\n",
              "      fill: #D2E3FC;\n",
              "    }\n",
              "\n",
              "    [theme=dark] .colab-df-convert:hover {\n",
              "      background-color: #434B5C;\n",
              "      box-shadow: 0px 1px 3px 1px rgba(0, 0, 0, 0.15);\n",
              "      filter: drop-shadow(0px 1px 2px rgba(0, 0, 0, 0.3));\n",
              "      fill: #FFFFFF;\n",
              "    }\n",
              "  </style>\n",
              "\n",
              "    <script>\n",
              "      const buttonEl =\n",
              "        document.querySelector('#df-0b495fcc-cd41-4cf5-a840-d0e251bf54c6 button.colab-df-convert');\n",
              "      buttonEl.style.display =\n",
              "        google.colab.kernel.accessAllowed ? 'block' : 'none';\n",
              "\n",
              "      async function convertToInteractive(key) {\n",
              "        const element = document.querySelector('#df-0b495fcc-cd41-4cf5-a840-d0e251bf54c6');\n",
              "        const dataTable =\n",
              "          await google.colab.kernel.invokeFunction('convertToInteractive',\n",
              "                                                    [key], {});\n",
              "        if (!dataTable) return;\n",
              "\n",
              "        const docLinkHtml = 'Like what you see? Visit the ' +\n",
              "          '<a target=\"_blank\" href=https://colab.research.google.com/notebooks/data_table.ipynb>data table notebook</a>'\n",
              "          + ' to learn more about interactive tables.';\n",
              "        element.innerHTML = '';\n",
              "        dataTable['output_type'] = 'display_data';\n",
              "        await google.colab.output.renderOutput(dataTable, element);\n",
              "        const docLink = document.createElement('div');\n",
              "        docLink.innerHTML = docLinkHtml;\n",
              "        element.appendChild(docLink);\n",
              "      }\n",
              "    </script>\n",
              "  </div>\n",
              "\n",
              "\n",
              "<div id=\"df-821bf90c-5176-43db-9250-875cdb121afb\">\n",
              "  <button class=\"colab-df-quickchart\" onclick=\"quickchart('df-821bf90c-5176-43db-9250-875cdb121afb')\"\n",
              "            title=\"Suggest charts\"\n",
              "            style=\"display:none;\">\n",
              "\n",
              "<svg xmlns=\"http://www.w3.org/2000/svg\" height=\"24px\"viewBox=\"0 0 24 24\"\n",
              "     width=\"24px\">\n",
              "    <g>\n",
              "        <path d=\"M19 3H5c-1.1 0-2 .9-2 2v14c0 1.1.9 2 2 2h14c1.1 0 2-.9 2-2V5c0-1.1-.9-2-2-2zM9 17H7v-7h2v7zm4 0h-2V7h2v10zm4 0h-2v-4h2v4z\"/>\n",
              "    </g>\n",
              "</svg>\n",
              "  </button>\n",
              "\n",
              "<style>\n",
              "  .colab-df-quickchart {\n",
              "      --bg-color: #E8F0FE;\n",
              "      --fill-color: #1967D2;\n",
              "      --hover-bg-color: #E2EBFA;\n",
              "      --hover-fill-color: #174EA6;\n",
              "      --disabled-fill-color: #AAA;\n",
              "      --disabled-bg-color: #DDD;\n",
              "  }\n",
              "\n",
              "  [theme=dark] .colab-df-quickchart {\n",
              "      --bg-color: #3B4455;\n",
              "      --fill-color: #D2E3FC;\n",
              "      --hover-bg-color: #434B5C;\n",
              "      --hover-fill-color: #FFFFFF;\n",
              "      --disabled-bg-color: #3B4455;\n",
              "      --disabled-fill-color: #666;\n",
              "  }\n",
              "\n",
              "  .colab-df-quickchart {\n",
              "    background-color: var(--bg-color);\n",
              "    border: none;\n",
              "    border-radius: 50%;\n",
              "    cursor: pointer;\n",
              "    display: none;\n",
              "    fill: var(--fill-color);\n",
              "    height: 32px;\n",
              "    padding: 0;\n",
              "    width: 32px;\n",
              "  }\n",
              "\n",
              "  .colab-df-quickchart:hover {\n",
              "    background-color: var(--hover-bg-color);\n",
              "    box-shadow: 0 1px 2px rgba(60, 64, 67, 0.3), 0 1px 3px 1px rgba(60, 64, 67, 0.15);\n",
              "    fill: var(--button-hover-fill-color);\n",
              "  }\n",
              "\n",
              "  .colab-df-quickchart-complete:disabled,\n",
              "  .colab-df-quickchart-complete:disabled:hover {\n",
              "    background-color: var(--disabled-bg-color);\n",
              "    fill: var(--disabled-fill-color);\n",
              "    box-shadow: none;\n",
              "  }\n",
              "\n",
              "  .colab-df-spinner {\n",
              "    border: 2px solid var(--fill-color);\n",
              "    border-color: transparent;\n",
              "    border-bottom-color: var(--fill-color);\n",
              "    animation:\n",
              "      spin 1s steps(1) infinite;\n",
              "  }\n",
              "\n",
              "  @keyframes spin {\n",
              "    0% {\n",
              "      border-color: transparent;\n",
              "      border-bottom-color: var(--fill-color);\n",
              "      border-left-color: var(--fill-color);\n",
              "    }\n",
              "    20% {\n",
              "      border-color: transparent;\n",
              "      border-left-color: var(--fill-color);\n",
              "      border-top-color: var(--fill-color);\n",
              "    }\n",
              "    30% {\n",
              "      border-color: transparent;\n",
              "      border-left-color: var(--fill-color);\n",
              "      border-top-color: var(--fill-color);\n",
              "      border-right-color: var(--fill-color);\n",
              "    }\n",
              "    40% {\n",
              "      border-color: transparent;\n",
              "      border-right-color: var(--fill-color);\n",
              "      border-top-color: var(--fill-color);\n",
              "    }\n",
              "    60% {\n",
              "      border-color: transparent;\n",
              "      border-right-color: var(--fill-color);\n",
              "    }\n",
              "    80% {\n",
              "      border-color: transparent;\n",
              "      border-right-color: var(--fill-color);\n",
              "      border-bottom-color: var(--fill-color);\n",
              "    }\n",
              "    90% {\n",
              "      border-color: transparent;\n",
              "      border-bottom-color: var(--fill-color);\n",
              "    }\n",
              "  }\n",
              "</style>\n",
              "\n",
              "  <script>\n",
              "    async function quickchart(key) {\n",
              "      const quickchartButtonEl =\n",
              "        document.querySelector('#' + key + ' button');\n",
              "      quickchartButtonEl.disabled = true;  // To prevent multiple clicks.\n",
              "      quickchartButtonEl.classList.add('colab-df-spinner');\n",
              "      try {\n",
              "        const charts = await google.colab.kernel.invokeFunction(\n",
              "            'suggestCharts', [key], {});\n",
              "      } catch (error) {\n",
              "        console.error('Error during call to suggestCharts:', error);\n",
              "      }\n",
              "      quickchartButtonEl.classList.remove('colab-df-spinner');\n",
              "      quickchartButtonEl.classList.add('colab-df-quickchart-complete');\n",
              "    }\n",
              "    (() => {\n",
              "      let quickchartButtonEl =\n",
              "        document.querySelector('#df-821bf90c-5176-43db-9250-875cdb121afb button');\n",
              "      quickchartButtonEl.style.display =\n",
              "        google.colab.kernel.accessAllowed ? 'block' : 'none';\n",
              "    })();\n",
              "  </script>\n",
              "</div>\n",
              "\n",
              "    </div>\n",
              "  </div>\n"
            ],
            "text/plain": [
              "         Capital           A         B   AmountA   AmountB     Upper  \\\n",
              "0      99.993000   93.727144  6.265856  0.613398  0.230024  1.745587   \n",
              "207   101.405249   95.309711  6.102538  0.608617  0.244664  1.506811   \n",
              "226   114.620931  109.959123  4.668807  0.817997  0.326381  1.480595   \n",
              "243   123.405432  119.079797  4.332635  0.813317  0.326140  1.457984   \n",
              "250   132.108145  128.343472  3.771674  0.945985  0.379340  1.457984   \n",
              "260   137.034275  133.489618  3.551657  0.940539  0.393145  1.405725   \n",
              "273   147.993260  145.631970  2.368289  1.125172  0.470322  1.405725   \n",
              "294   153.512900  151.527869  1.992031  1.121138  0.458546  1.321910   \n",
              "351   159.122560  156.651471  2.478089  1.202457  0.465351  1.196175   \n",
              "454   166.211925  163.373209  2.845716  1.199069  0.523993  0.912146   \n",
              "509   175.995869  174.068902  1.933967  1.371789  0.551459  1.017919   \n",
              "679   180.409619  177.512085  2.904534  1.410378  0.380802  1.105231   \n",
              "687   189.232658  186.510293  2.729365  1.552027  0.468712  0.971446   \n",
              "953   195.653646  192.190716  3.469930  1.564228  0.469268  0.820707   \n",
              "982   201.710341  197.853226  3.864116  1.651863  0.538507  0.798052   \n",
              "1025  211.836094  208.705963  3.137131  1.643576  0.512796  0.732018   \n",
              "1129  218.741481  215.165219  3.583263  1.724489  0.696694  0.650756   \n",
              "1268  222.624824  218.372769  4.259055  1.691075  1.023100  0.525346   \n",
              "1820  187.779219  184.263796  3.522422  1.236549  0.785209  0.703878   \n",
              "1840  186.003780  183.336384  2.674396  1.229495  0.743844  0.546672   \n",
              "1940  178.992595  176.697121  2.302474  1.144584  0.692473  1.149076   \n",
              "2266  206.324473  210.496699 -4.165226  1.104722  0.462878  0.866058   \n",
              "2284  211.437054  215.854606 -4.410552  1.166131  0.471117  0.922185   \n",
              "2306  210.615958  214.105410 -3.482452  1.177112  0.470845  0.943785   \n",
              "2460  202.027744  205.936249 -3.901505  1.093131  0.403365  1.034328   \n",
              "2570  193.290821  195.682671 -2.384850  1.100658  0.498598  0.842416   \n",
              "2596  200.254774  202.880965 -2.619191  1.188216  0.516874  0.903506   \n",
              "2675  212.638118  217.187080 -4.541962  1.168232  0.498835  0.955217   \n",
              "2980  180.635666  184.850409 -4.207743  0.864885  0.326062  1.130714   \n",
              "3040  192.278052  197.927466 -5.642414  0.850542  0.334263  1.077077   \n",
              "3061  186.863413  192.603077 -5.732664  0.805056  0.313167  1.287173   \n",
              "3077  192.616991  197.980855 -5.356864  0.808209  0.314393  1.287173   \n",
              "3080  193.945631  199.193169 -5.240538  0.819425  0.309743  1.774854   \n",
              "\n",
              "         Lower     Index  Signal   Side  \n",
              "0     1.590266  1.567285    True   True  \n",
              "207   1.394937  1.517145    True  False  \n",
              "226   1.371324  1.294428    True   True  \n",
              "243   1.352492  1.463663    True  False  \n",
              "250   1.352492  1.342605    True   True  \n",
              "260   1.307985  1.406916    True  False  \n",
              "273   1.307985  1.303440    True   True  \n",
              "294   1.230088  1.330352    True  False  \n",
              "351   1.114169  1.098425    True   True  \n",
              "454   0.849997  0.918008    True  False  \n",
              "509   0.954880  0.951539    True   True  \n",
              "679   1.047713  1.109919    True  False  \n",
              "687   0.918919  0.906285    True   True  \n",
              "953   0.781815  0.832572    True  False  \n",
              "982   0.761116  0.759761    True   True  \n",
              "1025  0.696912  0.735664    True  False  \n",
              "1129  0.620052  0.608213    True   True  \n",
              "1268  0.508836  0.525535    True  False  \n",
              "1820  0.650687  0.609591    True   True  \n",
              "1840  0.514208  0.606252    True  False  \n",
              "1940  1.065948  0.677241    True   True  \n",
              "2266  0.807885  0.866594    True  False  \n",
              "2284  0.858460  0.849077    True   True  \n",
              "2306  0.884012  0.945487    True  False  \n",
              "2460  0.957559  0.930923    True   True  \n",
              "2570  0.787436  0.850832    True  False  \n",
              "2596  0.844233  0.841489    True   True  \n",
              "2675  0.905486  0.972768    True  False  \n",
              "2980  1.054716  1.033966    True   True  \n",
              "3040  1.017433  1.123796    True  False  \n",
              "3061  1.208699  1.200993    True   True  \n",
              "3077  1.208699  1.290535    True  False  \n",
              "3080  1.661005  1.289750    True   True  "
            ]
          },
          "execution_count": 19,
          "metadata": {},
          "output_type": "execute_result"
        }
      ],
      "source": [
        "test_result[test_result.Signal]"
      ]
    },
    {
      "cell_type": "code",
      "execution_count": null,
      "metadata": {
        "colab": {
          "background_save": true
        },
        "id": "IaHeRHYdApGG",
        "outputId": "2da52667-fbd6-49c8-981d-a9a78d7d28ed"
      },
      "outputs": [
        {
          "data": {
            "text/plain": [
              "<Axes: >"
            ]
          },
          "execution_count": 20,
          "metadata": {},
          "output_type": "execute_result"
        },
        {
          "data": {
            "image/png": "[encoded data removed]",
            "text/plain": [
              "<Figure size 640x480 with 1 Axes>"
            ]
          },
          "metadata": {},
          "output_type": "display_data"
        }
      ],
      "source": [
        "test_result[['AmountA','AmountB']].plot()"
      ]
    },
    {
      "cell_type": "code",
      "execution_count": null,
      "metadata": {
        "colab": {
          "background_save": true
        },
        "id": "MLfjE1gi9lcm"
      },
      "outputs": [],
      "source": [
        "def calculate_annret_annvol(test_result, initial_capital):\n",
        "\n",
        "    capital = test_result['Capital']\n",
        "    daily_returns = capital.pct_change().dropna()\n",
        "\n",
        "    total_return = (capital.iloc[-1] / initial_capital) - 1\n",
        "    annualized_return = (1 + total_return) ** (252 / len(daily_returns)) - 1\n",
        "\n",
        "    annualized_volatility = daily_returns.std() * np.sqrt(252)\n",
        "\n",
        "    return {\n",
        "        \"Annualized Return\": f\"{annualized_return * 100:.4f}%\",\n",
        "        \"Annualized Volatility\": f\"{annualized_volatility * 100:.4f}%\"\n",
        "    }\n"
      ]
    },
    {
      "cell_type": "code",
      "execution_count": null,
      "metadata": {
        "colab": {
          "background_save": true
        },
        "id": "mYPMWAex9nyX",
        "outputId": "f43f33fa-4fbd-4e60-ebd2-1452b865ae94"
      },
      "outputs": [
        {
          "data": {
            "text/plain": [
              "{'Annualized Return': '6.1130%', 'Annualized Volatility': '13.0002%'}"
            ]
          },
          "execution_count": 22,
          "metadata": {},
          "output_type": "execute_result"
        }
      ],
      "source": [
        "calculate_annret_annvol(test_result,100)"
      ]
    },
    {
      "cell_type": "markdown",
      "metadata": {
        "id": "MOFQvjqHqn8O"
      },
      "source": [
        "### Tuning"
      ]
    },
    {
      "cell_type": "code",
      "execution_count": null,
      "metadata": {
        "id": "kuCPuuTB9rKU"
      },
      "outputs": [],
      "source": [
        "def ret(interval, window):\n",
        "    \"\"\"\n",
        "    Compute return using NumPy for efficiency.\n",
        "\n",
        "    Args:\n",
        "        interval (int): Interval for the test function.\n",
        "        window (int): Window size for the test function.\n",
        "\n",
        "    Returns:\n",
        "        float: The computed return for the given parameters.\n",
        "    \"\"\"\n",
        "    res = test(interval, window)  # Assuming 'test' is defined and returns a structure with 'Capital'\n",
        "    capital_changes = np.diff(res['Capital']) / res['Capital'][:-1]  # Equivalent to pct_change().dropna()\n",
        "    return np.prod(1 + capital_changes) - 1\n"
      ]
    },
    {
      "cell_type": "code",
      "execution_count": null,
      "metadata": {
        "id": "trjRRe3jo3Uy"
      },
      "outputs": [],
      "source": [
        "def vol(interval, window):\n",
        "    \"\"\"\n",
        "    Compute volatility using NumPy for efficiency.\n",
        "\n",
        "    Args:\n",
        "        interval (int): Interval for the test function.\n",
        "        window (int): Window size for the test function.\n",
        "\n",
        "    Returns:\n",
        "        float: The computed return for the given parameters.\n",
        "    \"\"\"\n",
        "    res = test(interval, window)  # Assuming 'test' is defined and returns a structure with 'Capital'\n",
        "    capital_std = np.std(res['Capital'])\n",
        "    return capital_std\n"
      ]
    },
    {
      "cell_type": "code",
      "execution_count": null,
      "metadata": {
        "id": "yOuy0Yx1pts1"
      },
      "outputs": [],
      "source": [
        "intervals = np.array([20, 50, 75, 100, 200, 252, 500])\n",
        "windows = np.array([100,252,500,750,1000,1250,1500])\n",
        "test_cases = np.array([(i, w) for i in intervals for w in windows if i < w])"
      ]
    },
    {
      "cell_type": "markdown",
      "metadata": {
        "id": "LoPfCrSqpjlE"
      },
      "source": [
        "Hyperparameters for best returns"
      ]
    },
    {
      "cell_type": "code",
      "execution_count": null,
      "metadata": {
        "id": "TqVJXfAxo1n1"
      },
      "outputs": [],
      "source": [
        "# Calculate results using vectorized computation\n",
        "results = np.array([(c, ret(*c)) for c in test_cases], dtype=object)\n",
        "\n",
        "# Find the maximum result\n",
        "max_index = np.argmax(results[:, 1])  # Get index of the maximum return\n",
        "max_case, max_value = results[max_index]\n",
        "\n",
        "print(f\"Maximum return is {max_value} for parameters {max_case}\")"
      ]
    },
    {
      "cell_type": "markdown",
      "metadata": {
        "id": "cPo0VKqVo2dB"
      },
      "source": [
        "![Знімок екрана 2025-01-22 о 07.11.15.png](data:image/png;base64,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)"
      ]
    },
    {
      "cell_type": "markdown",
      "metadata": {
        "id": "TAiBP5yapmWB"
      },
      "source": [
        "Lowest volatility"
      ]
    },
    {
      "cell_type": "code",
      "execution_count": null,
      "metadata": {
        "id": "h3R0fMvDprKf"
      },
      "outputs": [],
      "source": [
        "# Calculate results using vectorized computation\n",
        "results = np.array([(c, vol(*c)) for c in test_cases], dtype=object)\n",
        "\n",
        "# Find the maximum result\n",
        "min_index = np.argmin(results[:, 1])  # Get index of the maximum return\n",
        "min_case, min_value = results[min_index]\n",
        "\n",
        "print(f\"Minimum volatility is {min_value} for parameters {min_case}\")"
      ]
    },
    {
      "cell_type": "markdown",
      "metadata": {
        "id": "pepzIoO8pAIt"
      },
      "source": [
        "![Знімок екрана 2025-01-22 о 07.12.20.png](data:image/png;base64,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)"
      ]
    },
    {
      "cell_type": "markdown",
      "metadata": {
        "id": "FDxuWZn5dVup"
      },
      "source": [
        "## Market Search"
      ]
    },
    {
      "cell_type": "markdown",
      "metadata": {
        "id": "Y8kmDfzxNMLG"
      },
      "source": [
        "### Alpaca Client"
      ]
    },
    {
      "cell_type": "code",
      "execution_count": null,
      "metadata": {
        "id": "cvO3mxaCITgK"
      },
      "outputs": [],
      "source": [
        "# my own keys, when not used cautiously, punishment is foreseen :-)\n",
        "api_key = \"PK0WDZ0SZW55U0MT85CC\"\n",
        "secret_key = \"5GJTYWOOdmBFums233fGWTfYYBWkSv8R5lxiIVfo\"\n",
        "base_url = 'https://paper-api.alpaca.markets'\n",
        "\n",
        "trading_client = TradingClient(api_key=api_key, secret_key=secret_key, paper=True, url_override=base_url)\n",
        "trading_client.get_account()"
      ]
    },
    {
      "cell_type": "markdown",
      "metadata": {
        "id": "dibTxfZHNUSF"
      },
      "source": [
        "### Best stock pair search"
      ]
    },
    {
      "cell_type": "code",
      "execution_count": null,
      "metadata": {
        "id": "LpBeeqwLLaTc"
      },
      "outputs": [],
      "source": [
        "def get_1y_data(ticker,api_key,secret_key,test):\n",
        "    if test:\n",
        "        request_params = CryptoBarsRequest(\n",
        "                            symbol_or_symbols=ticker,\n",
        "                            timeframe=TimeFrame.Day,\n",
        "                            start=datetime.now().replace(year=datetime.now().day - 10),\n",
        "                            end=datetime.now().replace(day=datetime.now().day - 1)\n",
        "                    )\n",
        "        client = CryptoHistoricalDataClient(api_key,secret_key)\n",
        "        bars = client.get_crypto_bars(request_params)\n",
        "        return bars.df\n",
        "    else:\n",
        "        request_params = StockBarsRequest(\n",
        "                        symbol_or_symbols=ticker,\n",
        "                        timeframe=TimeFrame.Day,\n",
        "                        start=datetime.now().replace(year=datetime.now().year - 1),\n",
        "                        end=datetime.now().replace(day=datetime.now().day - 1)\n",
        "                )\n",
        "        client = StockHistoricalDataClient(api_key,secret_key)\n",
        "        bars = client.get_stock_bars(request_params)\n",
        "        return bars.df\n",
        "\n",
        "\n",
        "def get_price_data(tickers,api_key,secret_key,test=False):\n",
        "    data = {ticker: get_1y_data(ticker,api_key,secret_key,test)['close'].to_numpy() for ticker in tickers if 'close' in get_1y_data(ticker,api_key,secret_key,test).columns}\n",
        "    return data"
      ]
    },
    {
      "cell_type": "code",
      "execution_count": null,
      "metadata": {
        "id": "YCcnBxm3rgOy"
      },
      "outputs": [],
      "source": [
        "def analyze_tickers(price_data,dt):\n",
        "    tickers = price_data.keys()\n",
        "\n",
        "    #B/A Ratios to Test\n",
        "    B_over_A = np.linspace(0.001, 1, 1000)\n",
        "\n",
        "    #likelihood and param dictionaries\n",
        "    results = []\n",
        "\n",
        "    #calc Optimal B and params each pair\n",
        "    for ticker_1, ticker_2 in combinations(tickers, 2):\n",
        "        likelihoods = []\n",
        "\n",
        "        if len(price_data[ticker_1]) != len(price_data[ticker_2]):\n",
        "            print(f'Not enough data for {ticker_1}-{ticker_2}')\n",
        "            results.append({\n",
        "                \"t1\": ticker_1,\n",
        "                 \"t2\": ticker_2,\n",
        "                \"beta\": 0,\n",
        "                \"theta\": 0,\n",
        "                \"mu\": 0,\n",
        "                 \"sigma\": 0,\n",
        "                \"likl\": 0,\n",
        "            })\n",
        "            continue\n",
        "\n",
        "        #Calculate likelihood for each B/A ratio\n",
        "        for value in B_over_A:\n",
        "            alpha = 1 / price_data[ticker_1][0] #calculate the weight of the first asset\n",
        "            beta = value / price_data[ticker_2][0] #weight of second asset\n",
        "            spread = alpha * price_data[ticker_1] - beta * price_data[ticker_2] #spread claculation\n",
        "            parameters = calculate_parameters(spread, dt) # get the ou paprams - theta , mu sigma\n",
        "            likelihood = log_likelihood(parameters, spread, dt)\n",
        "\n",
        "            likelihoods.append(likelihood)\n",
        "\n",
        "        # Find the optimal B for this pair\n",
        "\n",
        "        ind = np.argmax(likelihoods)\n",
        "        max_likelihood = likelihoods[ind]\n",
        "        optimal_B = B_over_A[ind] # get corresponding beta value\n",
        "\n",
        "        # Recalculate parameters for the optimal B\n",
        "        alpha = 1 / price_data[ticker_1][0]\n",
        "        beta = optimal_B / price_data[ticker_2][0]\n",
        "        spread = alpha * price_data[ticker_1] - beta * price_data[ticker_2]\n",
        "        mu, theta, sigma = calculate_parameters(spread, dt)\n",
        "\n",
        "        # Store results\n",
        "        results.append({\n",
        "            \"t1\": ticker_1,\n",
        "            \"t2\": ticker_2,\n",
        "            \"beta\": optimal_B,\n",
        "            \"theta\": theta,\n",
        "            \"mu\": mu,\n",
        "            \"sigma\": sigma,\n",
        "            \"likl\": max_likelihood,\n",
        "        })\n",
        "    return sorted(results, key=lambda x: x['likl'],reverse=True)"
      ]
    },
    {
      "cell_type": "code",
      "execution_count": null,
      "metadata": {
        "id": "WhDc2u45sIRc"
      },
      "outputs": [],
      "source": [
        "search_params = GetAssetsRequest(asset_class=AssetClass.US_EQUITY)\n",
        "assets = trading_client.get_all_assets(search_params)\n",
        "\n",
        "symbols = [asset.symbol for asset in assets if asset.tradable and asset.shortable][:10] # remove 10 or increase to get more tickers\n",
        "print(symbols)"
      ]
    },
    {
      "cell_type": "code",
      "execution_count": null,
      "metadata": {
        "id": "uSEUar1IsiBi"
      },
      "outputs": [],
      "source": [
        "price_data = get_price_data(symbols,api_key,secret_key)\n",
        "result = analyze_tickers(price_data,dt)[:10]\n",
        "\n",
        "for i,out in enumerate(result):\n",
        "    print(f\"{i+1}. {out['t1']}-{out['t2']}: {out['likl']}\")"
      ]
    },
    {
      "cell_type": "code",
      "execution_count": null,
      "metadata": {
        "id": "diw2dDzGO3k-"
      },
      "outputs": [],
      "source": [
        "pair = [result[0]['t1'],result[0]['t2']]"
      ]
    },
    {
      "cell_type": "markdown",
      "metadata": {
        "id": "N3VVHCqw2Rzz"
      },
      "source": [
        "## Real-Time Trading"
      ]
    },
    {
      "cell_type": "markdown",
      "metadata": {
        "id": "GUbl8xgR4G_i"
      },
      "source": [
        "### Create spread orders"
      ]
    },
    {
      "cell_type": "code",
      "execution_count": null,
      "metadata": {
        "id": "DodsrwTStkxi"
      },
      "outputs": [],
      "source": [
        "def close_all():\n",
        "    trading_client.close_all_positions(cancel_orders=True)\n",
        "\n",
        "def spread(pair,long=True,qty=None):\n",
        "    close_all()\n",
        "    if qty is not None:\n",
        "        market_order_data = MarketOrderRequest(\n",
        "                            symbol=pair[0],\n",
        "                            qty=qty[0],\n",
        "                            side=OrderSide.BUY if long else OrderSide.SELL,\n",
        "                            time_in_force=TimeInForce.DAY\n",
        "                            )\n",
        "\n",
        "        order1 = trading_client.submit_order(\n",
        "                        order_data=market_order_data\n",
        "                    )\n",
        "\n",
        "        market_order_data = MarketOrderRequest(\n",
        "                            symbol=pair[1],\n",
        "                            qty=qty[1],\n",
        "                            side=OrderSide.SELL if long else OrderSide.BUY,\n",
        "                            time_in_force=TimeInForce.DAY\n",
        "                            )\n",
        "\n",
        "        order2 = trading_client.submit_order(\n",
        "                        order_data=market_order_data\n",
        "                    )\n",
        "    return order1,order2"
      ]
    },
    {
      "cell_type": "code",
      "execution_count": null,
      "metadata": {
        "id": "83rNHe8M4E9F"
      },
      "outputs": [],
      "source": [
        "account = trading_client.get_account()\n",
        "model = OU_Trading_Model(int(account.cash))"
      ]
    },
    {
      "cell_type": "code",
      "execution_count": null,
      "metadata": {
        "id": "Lo1K7_U_PWt7"
      },
      "outputs": [],
      "source": [
        "window,interval = 100,5\n",
        "dt_from_start = 0\n",
        "work_data = {}\n",
        "status = {}\n",
        "past_data = []\n",
        "pair = []"
      ]
    },
    {
      "cell_type": "code",
      "execution_count": null,
      "metadata": {
        "id": "9nALOpvdN1Tw"
      },
      "outputs": [],
      "source": [
        "async def quote_data_handler(data):\n",
        "\n",
        "    global pair,work_data,dt_from_start,model,status,past_data,trading_client,capital\n",
        "\n",
        "    tickers = list(work_data.keys())\n",
        "\n",
        "    if not data.symbol in tickers:\n",
        "        work_data[data.symbol] = [data.close]\n",
        "    else:\n",
        "        work_data[data.symbol].append(data.close)\n",
        "\n",
        "    status[data.symbol] = True\n",
        "\n",
        "    print(work_data)\n",
        "\n",
        "    # if len(tickers) == 2 and len(work_data[tickers[0]]) == len(work_data[tickers[1]]): # First idea\n",
        "\n",
        "    print(status)\n",
        "    if len(tickers) == 2 and all(list(status.values())): # Better at handling gaps when streaming data\n",
        "        n_closes = len(past_data)\n",
        "        dt_from_start += 1\n",
        "\n",
        "        prices = [work_data[tickers[0]][-1],work_data[tickers[1]][-1]]\n",
        "        print(prices)\n",
        "        past_data.append(prices)\n",
        "\n",
        "        model.capital = trading_client.get_account().portfolio_value\n",
        "\n",
        "        if n_closes >= window and dt_from_start % interval == 0:\n",
        "            print('setup',past_data)\n",
        "            model.setup(past_data)\n",
        "        try:\n",
        "            signal = model.trade(prices)\n",
        "            if signal:\n",
        "\n",
        "                orders = spread(pair,model.is_long,[model.amount_a,model.amount_b])\n",
        "                print(orders)\n",
        "            print('trade',signal,model.is_long)\n",
        "        except:\n",
        "            pass\n",
        "\n",
        "        for ticker in tickers:\n",
        "            status[ticker] = False"
      ]
    },
    {
      "cell_type": "markdown",
      "metadata": {
        "id": "hb5XknfBOl6X"
      },
      "source": [
        "Disclaimer: won't work in Jupyter notebook"
      ]
    },
    {
      "cell_type": "code",
      "execution_count": null,
      "metadata": {
        "id": "Gs8fNAJRPjAd"
      },
      "outputs": [],
      "source": [
        "pair = ['BTC/USDT','SOL/USDT'] # For test\n",
        "stream = CryptoDataStream(api_key, secret_key)\n",
        "stream.subscribe_bars(quote_data_handler, *pair)\n",
        "stream.run()"
      ]
    },
    {
      "cell_type": "code",
      "execution_count": null,
      "metadata": {
        "id": "ybOSanmKOsc9"
      },
      "outputs": [],
      "source": [
        "stream = StockDataStream(api_key, secret_key)\n",
        "stream.subscribe_daily_bars(quote_data_handler, *pair)\n",
        "stream.run()"
      ]
    },
    {
      "cell_type": "markdown",
      "metadata": {
        "id": "qHyL6ICwXgk5"
      },
      "source": [
        "## Appendix"
      ]
    },
    {
      "cell_type": "markdown",
      "metadata": {
        "id": "LblDaR2BXmrv"
      },
      "source": [
        "Other links:\n",
        " - https://www.notion.so/team/162e780e-d28e-811d-9676-0042384ed2e8/joinhttps://www.notion.so/team/162e780e-d28e-811d-9676-0042384ed2e8/join - team's Notion page\n",
        " - https://github.com/AlphaShk/ou_pair_trading - full model to trade in real time\n"
      ]
    }
  ],
  "metadata": {
    "colab": {
      "collapsed_sections": [
        "rFwd4MclqMj_",
        "5i_tEBhUtdNx",
        "Z1sR1FFeIrqa"
      ],
      "provenance": []
    },
    "kernelspec": {
      "display_name": "Python 3",
      "name": "python3"
    },
    "language_info": {
      "name": "python"
    }
  },
  "nbformat": 4,
  "nbformat_minor": 0
}